{
  "nbformat": 4,
  "nbformat_minor": 0,
  "metadata": {
    "colab": {
      "provenance": [],
      "authorship_tag": "ABX9TyNEr/GNpCOu57Y/9srAK32R",
      "include_colab_link": true
    },
    "kernelspec": {
      "name": "python3",
      "display_name": "Python 3"
    },
    "language_info": {
      "name": "python"
    }
  },
  "cells": [
    {
      "cell_type": "markdown",
      "metadata": {
        "id": "view-in-github",
        "colab_type": "text"
      },
      "source": [
        "<a href=\"https://colab.research.google.com/github/brunnabrito/Alura/blob/main/SESI_SENAI.ipynb\" target=\"_parent\"><img src=\"https://colab.research.google.com/assets/colab-badge.svg\" alt=\"Open In Colab\"/></a>"
      ]
    },
    {
      "cell_type": "markdown",
      "source": [
        "# Importar bibliotecas"
      ],
      "metadata": {
        "id": "xw9ZZdFSjgtQ"
      }
    },
    {
      "cell_type": "code",
      "execution_count": 1,
      "metadata": {
        "id": "0ax9XxkKfdTK"
      },
      "outputs": [],
      "source": [
        "# basicas\n",
        "import os\n",
        "import datetime\n",
        "import json\n",
        "\n",
        "# api\n",
        "import requests\n",
        "# from dotenv import load_dotenv para carregar a chave da api\n",
        "\n",
        "# criptografar chave da api\n",
        "from cryptography.fernet import Fernet"
      ]
    },
    {
      "cell_type": "markdown",
      "source": [
        "# Questão 1\n",
        "\n",
        "Você precisa integrar e manter atualizada uma base de comércio exterior de 143\n",
        "países.\n",
        "Para isso, você utilizará uma API onde pode realizar 2500 consultas diárias. Os parâmetros de consulta são: país_origem, país_destino e ano"
      ],
      "metadata": {
        "id": "5n7og6pfrALq"
      }
    },
    {
      "cell_type": "markdown",
      "source": [
        "## Dados de cadastro"
      ],
      "metadata": {
        "id": "nWkSvv4pjjhJ"
      }
    },
    {
      "cell_type": "code",
      "source": [
        "lista_paises = ['AFG', 'ALB', 'DZA', 'AND', 'AGO', 'ATG', 'ARG', 'ARM',\n",
        "                'AUS', 'AUT', 'AZE', 'BHS', 'BHR', 'BGD', 'BRB', 'BLR',\n",
        "                'BEL', 'BLZ', 'BEN', 'BTN', 'BOL', 'BIH', 'BWA', 'BRA',\n",
        "                'BRN', 'BGR', 'BFA', 'BDI', 'CPV', 'KHM', 'CMR', 'CAN',\n",
        "                'CAF', 'TCD', 'CHL', 'CHN', 'COL', 'COM', 'COG', 'CRI',\n",
        "                'HRV', 'CUB', 'CYP', 'CZE', 'COD', 'DNK', 'DJI', 'DMA',\n",
        "                'DOM', 'ECU', 'EGY', 'SLV', 'GNQ', 'ERI', 'EST', 'SWZ',\n",
        "                'ETH', 'FJI', 'FIN', 'FRA', 'GAB', 'GMB', 'GEO', 'DEU',\n",
        "                'GHA', 'GRC', 'GRD', 'GTM', 'GIN', 'GNB', 'GUY', 'HTI',\n",
        "                'HND', 'HUN', 'ISL', 'IND', 'IDN', 'IRN', 'IRQ', 'IRL',\n",
        "                'ISR', 'ITA', 'JAM', 'JPN', 'JOR', 'KAZ', 'KEN', 'KIR',\n",
        "                'PRK', 'KOR', 'KWT', 'KGZ', 'LAO', 'LVA', 'LBN', 'LSO',\n",
        "                'LBR', 'LBY', 'LIE', 'LTU', 'LUX', 'MDG', 'MWI', 'MYS',\n",
        "                'MDV', 'MLI', 'MLT', 'MHL', 'MRT', 'MUS', 'MEX', 'FSM',\n",
        "                'MDA', 'MCO', 'MNG', 'MNE', 'MAR', 'MOZ', 'MMR', 'NAM',\n",
        "                'NRU', 'NPL', 'NLD', 'NZL', 'NIC', 'NER', 'NGA', 'MKD',\n",
        "                'NOR', 'OMN', 'PAK', 'PLW', 'PAN', 'PNG', 'PRY', 'PER',\n",
        "                'PHL', 'POL', 'PRT', 'QAT', 'ROU', 'RUS', 'RWA', 'KNA',\n",
        "                'LCA', 'VCT', 'WSM', 'SMR', 'STP', 'SAU', 'SEN', 'SRB',\n",
        "                'SYC', 'SLE', 'SGP', 'SVK', 'SVN', 'SLB', 'SOM', 'ZAF',\n",
        "                'SSD', 'ESP', 'LKA', 'SDN', 'SUR', 'SWE', 'CHE', 'SYR',\n",
        "                'TJK', 'TZA', 'THA', 'TLS', 'TGO', 'TON', 'TTO', 'TUN',\n",
        "                'TUR', 'TKM', 'UGA', 'UKR', 'ARE', 'GBR', 'USA', 'URY',\n",
        "                'UZB', 'VUT', 'VEN', 'VNM', 'YEM', 'ZMB', 'ZWE']"
      ],
      "metadata": {
        "id": "PM54VGgNi1t-"
      },
      "execution_count": 2,
      "outputs": []
    },
    {
      "cell_type": "code",
      "source": [
        "anos = ['2019', '2020', '2021']"
      ],
      "metadata": {
        "id": "pxsB1ADZj_Uz"
      },
      "execution_count": 3,
      "outputs": []
    },
    {
      "cell_type": "code",
      "source": [
        "codigo_paises_comtrade = {\n",
        "    'BRA': 76,\n",
        "    'ARG': 32,\n",
        "    'AFG': 4,\n",
        "    'CHN': 156,\n",
        "    'WLD': 'WLD'\n",
        "}"
      ],
      "metadata": {
        "id": "gt_wuDmhyAur"
      },
      "execution_count": 4,
      "outputs": []
    },
    {
      "cell_type": "markdown",
      "source": [
        "## Funções gerais"
      ],
      "metadata": {
        "id": "J5BvSFR6kGrx"
      }
    },
    {
      "cell_type": "code",
      "source": [
        "# Função para criar diretórios\n",
        "def criar_diretorios(anos, lista_paises, caminho):\n",
        "    for ano in anos:\n",
        "        for pais_origem in lista_paises:\n",
        "            diretorio = f'{caminho}/{ano}/{pais_origem}/'\n",
        "            if not os.path.exists(diretorio):\n",
        "                os.makedirs(diretorio)"
      ],
      "metadata": {
        "id": "EjBRsFv3kyZm"
      },
      "execution_count": 5,
      "outputs": []
    },
    {
      "cell_type": "markdown",
      "source": [
        "## Criar uma estrutura de diretórios e nomenclatura de arquivos que permita armazenar as consultas de modo coerente"
      ],
      "metadata": {
        "id": "-Q85bIwCkYyB"
      }
    },
    {
      "cell_type": "code",
      "source": [
        "# somente para testar e manter a legibilidade das pastas neste desafio\n",
        "lista_paises = ['BRA', 'ARG', 'AFG', 'WLD', 'CHN']"
      ],
      "metadata": {
        "id": "QCTjnnekk6YH"
      },
      "execution_count": 6,
      "outputs": []
    },
    {
      "cell_type": "code",
      "source": [
        "# Criar os diretórios\n",
        "caminho_pasta = '/content/importacoes/'\n",
        "criar_diretorios(anos, lista_paises,caminho_pasta)"
      ],
      "metadata": {
        "id": "9GcRjJwzk7tG"
      },
      "execution_count": 7,
      "outputs": []
    },
    {
      "cell_type": "markdown",
      "source": [
        "## Fazer request em todos paises, parceiros e anos"
      ],
      "metadata": {
        "id": "77Gfiybgqnuv"
      }
    },
    {
      "cell_type": "markdown",
      "source": [
        "Obs. é importante criptografar e armazenar corretamente a chave da api, podendo ser usada a biblioteca cryptography.fernet por exemplo. Neste desafio irei usar a chave genérica de api para fins de demonstração."
      ],
      "metadata": {
        "id": "3hqpTWwct-uE"
      }
    },
    {
      "cell_type": "code",
      "source": [
        "### SIMULAÇÃO PARA FINS DE DEMONSTRAÇÃO\n",
        "\n",
        "# PASSO 1 - EXPORTAR A CHAVE DA API NO AMBIENTE\n",
        "\n",
        "# dotenv_path = os.path.join(os.path.dirname(__file__), '.env')\n",
        "# load_dotenv(dotenv_path)\n",
        "\n",
        "### aqui vamos trazer a API que está em ambiente seguro e devidamente criptografada.\n",
        "api_key = os.getenv('ENCODE_API_KEY')"
      ],
      "metadata": {
        "id": "n0gRKTSdofNW"
      },
      "execution_count": 8,
      "outputs": []
    },
    {
      "cell_type": "markdown",
      "source": [
        "Como seria o request na API da comtrade que temos informações de importação.\n",
        "Por razões de não poder compartilhar a chave vou deixar somente demonstrativo.\n",
        "\n",
        "A documentação da API está disponível em: [texto do link](https://uncomtrade.org/docs/un-comtrade-api/)"
      ],
      "metadata": {
        "id": "maEFNLflv_NJ"
      }
    },
    {
      "cell_type": "code",
      "source": [
        "# Parâmetros da requisição e demonstração genérica\n",
        "url = 'https://comtrade.un.org/api/get'\n",
        "payload = {\n",
        "    'type': 'C',  # 'C' para consulta de dados\n",
        "    'freq': 'A',  # Frequência anual\n",
        "    'px': 'HS',   # Classificação do produto, use 'HS' para a versão harmonizada\n",
        "    'ps': '2020', # Período ou ano (exemplo: 2020)\n",
        "    'r': '76',    # Código do país de origem (BRA para Brasil)\n",
        "    'p': '152',   # Código do país de destino (ARG para Argentina)\n",
        "    'rg': '1',    # Fluxo de dados: 1 para exportações, 2 para importações\n",
        "    'cc': api_key # Sua chave de API da UN Comtrade\n",
        "}\n",
        "\n",
        "response = requests.get(url, params=payload)\n",
        "\n",
        "# Verificando se a requisição foi bem-sucedida (código 200), porém irá falhar já que não temos a key\n",
        "if response.status_code == 200:\n",
        "    data = response.json()\n",
        "else:\n",
        "    print(f\"Erro na requisição: {response.status_code}\")"
      ],
      "metadata": {
        "colab": {
          "base_uri": "https://localhost:8080/"
        },
        "id": "xA9sa1d_vbKw",
        "outputId": "56abd606-5a0b-48f5-e3ff-088385226c85"
      },
      "execution_count": 9,
      "outputs": [
        {
          "output_type": "stream",
          "name": "stdout",
          "text": [
            "Erro na requisição: 404\n"
          ]
        }
      ]
    },
    {
      "cell_type": "code",
      "source": [
        "i=1"
      ],
      "metadata": {
        "id": "wl5NJf1y5Atv"
      },
      "execution_count": 10,
      "outputs": []
    },
    {
      "cell_type": "code",
      "source": [
        "# Iteração sobre os países de origem e destino e os anos desejados\n",
        "for pais_origem in lista_paises:\n",
        "    for pais_destino in lista_paises:\n",
        "      if pais_origem != pais_destino:\n",
        "        for ano in anos:\n",
        "            if ano in anos:\n",
        "                # consulta para exportações (rg='1')\n",
        "                payload_exportacoes = {\n",
        "                    'type': 'C',\n",
        "                    'freq': 'A',\n",
        "                    'px': 'HS',\n",
        "                    'ps': ano,\n",
        "                    'r': codigo_paises_comtrade[pais_origem],\n",
        "                    'p': codigo_paises_comtrade[pais_destino],\n",
        "                    'rg': '1',\n",
        "                    'cc': api_key\n",
        "                }\n",
        "\n",
        "                # response = requests.get(url, params=payload)\n",
        "\n",
        "                # dados ficticios para fazer a reposta do item 3 e popular o diretório\n",
        "                response = {\n",
        "                                'ano': 2020,\n",
        "                                'pais_origem': codigo_paises_comtrade[pais_origem],\n",
        "                                'pais_destino': codigo_paises_comtrade[pais_destino],\n",
        "                                'produto': 'Soja',\n",
        "                                'dados': [\n",
        "                                    {'mes': 'jan', 'quantidade': 15000},\n",
        "                                    {'mes': 'fev', 'quantidade': 18000},\n",
        "                                    {'mes': 'mar', 'quantidade': 17000},\n",
        "                                    {'mes': 'abr', 'quantidade': 16000},\n",
        "                                    {'mes': 'mai', 'quantidade': 19000}\n",
        "                                ]\n",
        "                            }\n",
        "\n",
        "                caminho_arquivo_exportacoes = f\"{caminho_pasta}/{ano}/{pais_origem}/{pais_destino}_exportacoes.json\"\n",
        "\n",
        "                with open(caminho_arquivo_exportacoes, 'w') as f:\n",
        "                    json.dump(response, f, indent=4)\n",
        "                    print(f\"{i} - Resultado das exportações de {pais_origem} para {pais_destino} em {ano} salvo em {caminho_arquivo_exportacoes}\")\n",
        "                    i+=1\n",
        "\n",
        "                # consulta para importações (rg='2')\n",
        "                payload_importacoes = {\n",
        "                    'type': 'C',\n",
        "                    'freq': 'A',\n",
        "                    'px': 'HS',\n",
        "                    'ps': ano,\n",
        "                    'r': codigo_paises_comtrade[pais_origem],\n",
        "                    'p': codigo_paises_comtrade[pais_destino],\n",
        "                    'rg': '2',\n",
        "                    'cc': api_key\n",
        "                }\n",
        "\n",
        "                # response = requests.get(url, params=payload)\n",
        "\n",
        "                # dados ficticios para fazer a reposta do item 3 e popular o diretório\n",
        "                response = {\n",
        "                                'ano': 2020,\n",
        "                                'pais_origem': codigo_paises_comtrade[pais_origem],\n",
        "                                'pais_destino': codigo_paises_comtrade[pais_destino],\n",
        "                                'produto': 'Soja',\n",
        "                                'dados': [\n",
        "                                    {'mes': 'jan', 'quantidade': 15000},\n",
        "                                    {'mes': 'fev', 'quantidade': 18000},\n",
        "                                    {'mes': 'mar', 'quantidade': 17000},\n",
        "                                    {'mes': 'abr', 'quantidade': 16000},\n",
        "                                    {'mes': 'mai', 'quantidade': 19000}\n",
        "                                ]\n",
        "                            }\n",
        "\n",
        "\n",
        "                caminho_arquivo_importacoes = f\"{caminho_pasta}/{ano}/{pais_origem}/{pais_destino}_importacoes.json\"\n",
        "\n",
        "                with open(caminho_arquivo_importacoes, 'w') as f:\n",
        "                    json.dump(response, f, indent=4)\n",
        "                    print(f\"{i} - Resultado das importações de {pais_destino} para {pais_origem} em {ano} salvo em {caminho_arquivo_importacoes}\")\n",
        "                i+=1\n"
      ],
      "metadata": {
        "colab": {
          "base_uri": "https://localhost:8080/"
        },
        "id": "qzlQpGm70tOU",
        "outputId": "faaf81a1-c964-496b-c250-3c3467f319b4"
      },
      "execution_count": 11,
      "outputs": [
        {
          "output_type": "stream",
          "name": "stdout",
          "text": [
            "1 - Resultado das exportações de BRA para ARG em 2019 salvo em /content/importacoes//2019/BRA/ARG_exportacoes.json\n",
            "2 - Resultado das importações de ARG para BRA em 2019 salvo em /content/importacoes//2019/BRA/ARG_importacoes.json\n",
            "3 - Resultado das exportações de BRA para ARG em 2020 salvo em /content/importacoes//2020/BRA/ARG_exportacoes.json\n",
            "4 - Resultado das importações de ARG para BRA em 2020 salvo em /content/importacoes//2020/BRA/ARG_importacoes.json\n",
            "5 - Resultado das exportações de BRA para ARG em 2021 salvo em /content/importacoes//2021/BRA/ARG_exportacoes.json\n",
            "6 - Resultado das importações de ARG para BRA em 2021 salvo em /content/importacoes//2021/BRA/ARG_importacoes.json\n",
            "7 - Resultado das exportações de BRA para AFG em 2019 salvo em /content/importacoes//2019/BRA/AFG_exportacoes.json\n",
            "8 - Resultado das importações de AFG para BRA em 2019 salvo em /content/importacoes//2019/BRA/AFG_importacoes.json\n",
            "9 - Resultado das exportações de BRA para AFG em 2020 salvo em /content/importacoes//2020/BRA/AFG_exportacoes.json\n",
            "10 - Resultado das importações de AFG para BRA em 2020 salvo em /content/importacoes//2020/BRA/AFG_importacoes.json\n",
            "11 - Resultado das exportações de BRA para AFG em 2021 salvo em /content/importacoes//2021/BRA/AFG_exportacoes.json\n",
            "12 - Resultado das importações de AFG para BRA em 2021 salvo em /content/importacoes//2021/BRA/AFG_importacoes.json\n",
            "13 - Resultado das exportações de BRA para WLD em 2019 salvo em /content/importacoes//2019/BRA/WLD_exportacoes.json\n",
            "14 - Resultado das importações de WLD para BRA em 2019 salvo em /content/importacoes//2019/BRA/WLD_importacoes.json\n",
            "15 - Resultado das exportações de BRA para WLD em 2020 salvo em /content/importacoes//2020/BRA/WLD_exportacoes.json\n",
            "16 - Resultado das importações de WLD para BRA em 2020 salvo em /content/importacoes//2020/BRA/WLD_importacoes.json\n",
            "17 - Resultado das exportações de BRA para WLD em 2021 salvo em /content/importacoes//2021/BRA/WLD_exportacoes.json\n",
            "18 - Resultado das importações de WLD para BRA em 2021 salvo em /content/importacoes//2021/BRA/WLD_importacoes.json\n",
            "19 - Resultado das exportações de BRA para CHN em 2019 salvo em /content/importacoes//2019/BRA/CHN_exportacoes.json\n",
            "20 - Resultado das importações de CHN para BRA em 2019 salvo em /content/importacoes//2019/BRA/CHN_importacoes.json\n",
            "21 - Resultado das exportações de BRA para CHN em 2020 salvo em /content/importacoes//2020/BRA/CHN_exportacoes.json\n",
            "22 - Resultado das importações de CHN para BRA em 2020 salvo em /content/importacoes//2020/BRA/CHN_importacoes.json\n",
            "23 - Resultado das exportações de BRA para CHN em 2021 salvo em /content/importacoes//2021/BRA/CHN_exportacoes.json\n",
            "24 - Resultado das importações de CHN para BRA em 2021 salvo em /content/importacoes//2021/BRA/CHN_importacoes.json\n",
            "25 - Resultado das exportações de ARG para BRA em 2019 salvo em /content/importacoes//2019/ARG/BRA_exportacoes.json\n",
            "26 - Resultado das importações de BRA para ARG em 2019 salvo em /content/importacoes//2019/ARG/BRA_importacoes.json\n",
            "27 - Resultado das exportações de ARG para BRA em 2020 salvo em /content/importacoes//2020/ARG/BRA_exportacoes.json\n",
            "28 - Resultado das importações de BRA para ARG em 2020 salvo em /content/importacoes//2020/ARG/BRA_importacoes.json\n",
            "29 - Resultado das exportações de ARG para BRA em 2021 salvo em /content/importacoes//2021/ARG/BRA_exportacoes.json\n",
            "30 - Resultado das importações de BRA para ARG em 2021 salvo em /content/importacoes//2021/ARG/BRA_importacoes.json\n",
            "31 - Resultado das exportações de ARG para AFG em 2019 salvo em /content/importacoes//2019/ARG/AFG_exportacoes.json\n",
            "32 - Resultado das importações de AFG para ARG em 2019 salvo em /content/importacoes//2019/ARG/AFG_importacoes.json\n",
            "33 - Resultado das exportações de ARG para AFG em 2020 salvo em /content/importacoes//2020/ARG/AFG_exportacoes.json\n",
            "34 - Resultado das importações de AFG para ARG em 2020 salvo em /content/importacoes//2020/ARG/AFG_importacoes.json\n",
            "35 - Resultado das exportações de ARG para AFG em 2021 salvo em /content/importacoes//2021/ARG/AFG_exportacoes.json\n",
            "36 - Resultado das importações de AFG para ARG em 2021 salvo em /content/importacoes//2021/ARG/AFG_importacoes.json\n",
            "37 - Resultado das exportações de ARG para WLD em 2019 salvo em /content/importacoes//2019/ARG/WLD_exportacoes.json\n",
            "38 - Resultado das importações de WLD para ARG em 2019 salvo em /content/importacoes//2019/ARG/WLD_importacoes.json\n",
            "39 - Resultado das exportações de ARG para WLD em 2020 salvo em /content/importacoes//2020/ARG/WLD_exportacoes.json\n",
            "40 - Resultado das importações de WLD para ARG em 2020 salvo em /content/importacoes//2020/ARG/WLD_importacoes.json\n",
            "41 - Resultado das exportações de ARG para WLD em 2021 salvo em /content/importacoes//2021/ARG/WLD_exportacoes.json\n",
            "42 - Resultado das importações de WLD para ARG em 2021 salvo em /content/importacoes//2021/ARG/WLD_importacoes.json\n",
            "43 - Resultado das exportações de ARG para CHN em 2019 salvo em /content/importacoes//2019/ARG/CHN_exportacoes.json\n",
            "44 - Resultado das importações de CHN para ARG em 2019 salvo em /content/importacoes//2019/ARG/CHN_importacoes.json\n",
            "45 - Resultado das exportações de ARG para CHN em 2020 salvo em /content/importacoes//2020/ARG/CHN_exportacoes.json\n",
            "46 - Resultado das importações de CHN para ARG em 2020 salvo em /content/importacoes//2020/ARG/CHN_importacoes.json\n",
            "47 - Resultado das exportações de ARG para CHN em 2021 salvo em /content/importacoes//2021/ARG/CHN_exportacoes.json\n",
            "48 - Resultado das importações de CHN para ARG em 2021 salvo em /content/importacoes//2021/ARG/CHN_importacoes.json\n",
            "49 - Resultado das exportações de AFG para BRA em 2019 salvo em /content/importacoes//2019/AFG/BRA_exportacoes.json\n",
            "50 - Resultado das importações de BRA para AFG em 2019 salvo em /content/importacoes//2019/AFG/BRA_importacoes.json\n",
            "51 - Resultado das exportações de AFG para BRA em 2020 salvo em /content/importacoes//2020/AFG/BRA_exportacoes.json\n",
            "52 - Resultado das importações de BRA para AFG em 2020 salvo em /content/importacoes//2020/AFG/BRA_importacoes.json\n",
            "53 - Resultado das exportações de AFG para BRA em 2021 salvo em /content/importacoes//2021/AFG/BRA_exportacoes.json\n",
            "54 - Resultado das importações de BRA para AFG em 2021 salvo em /content/importacoes//2021/AFG/BRA_importacoes.json\n",
            "55 - Resultado das exportações de AFG para ARG em 2019 salvo em /content/importacoes//2019/AFG/ARG_exportacoes.json\n",
            "56 - Resultado das importações de ARG para AFG em 2019 salvo em /content/importacoes//2019/AFG/ARG_importacoes.json\n",
            "57 - Resultado das exportações de AFG para ARG em 2020 salvo em /content/importacoes//2020/AFG/ARG_exportacoes.json\n",
            "58 - Resultado das importações de ARG para AFG em 2020 salvo em /content/importacoes//2020/AFG/ARG_importacoes.json\n",
            "59 - Resultado das exportações de AFG para ARG em 2021 salvo em /content/importacoes//2021/AFG/ARG_exportacoes.json\n",
            "60 - Resultado das importações de ARG para AFG em 2021 salvo em /content/importacoes//2021/AFG/ARG_importacoes.json\n",
            "61 - Resultado das exportações de AFG para WLD em 2019 salvo em /content/importacoes//2019/AFG/WLD_exportacoes.json\n",
            "62 - Resultado das importações de WLD para AFG em 2019 salvo em /content/importacoes//2019/AFG/WLD_importacoes.json\n",
            "63 - Resultado das exportações de AFG para WLD em 2020 salvo em /content/importacoes//2020/AFG/WLD_exportacoes.json\n",
            "64 - Resultado das importações de WLD para AFG em 2020 salvo em /content/importacoes//2020/AFG/WLD_importacoes.json\n",
            "65 - Resultado das exportações de AFG para WLD em 2021 salvo em /content/importacoes//2021/AFG/WLD_exportacoes.json\n",
            "66 - Resultado das importações de WLD para AFG em 2021 salvo em /content/importacoes//2021/AFG/WLD_importacoes.json\n",
            "67 - Resultado das exportações de AFG para CHN em 2019 salvo em /content/importacoes//2019/AFG/CHN_exportacoes.json\n",
            "68 - Resultado das importações de CHN para AFG em 2019 salvo em /content/importacoes//2019/AFG/CHN_importacoes.json\n",
            "69 - Resultado das exportações de AFG para CHN em 2020 salvo em /content/importacoes//2020/AFG/CHN_exportacoes.json\n",
            "70 - Resultado das importações de CHN para AFG em 2020 salvo em /content/importacoes//2020/AFG/CHN_importacoes.json\n",
            "71 - Resultado das exportações de AFG para CHN em 2021 salvo em /content/importacoes//2021/AFG/CHN_exportacoes.json\n",
            "72 - Resultado das importações de CHN para AFG em 2021 salvo em /content/importacoes//2021/AFG/CHN_importacoes.json\n",
            "73 - Resultado das exportações de WLD para BRA em 2019 salvo em /content/importacoes//2019/WLD/BRA_exportacoes.json\n",
            "74 - Resultado das importações de BRA para WLD em 2019 salvo em /content/importacoes//2019/WLD/BRA_importacoes.json\n",
            "75 - Resultado das exportações de WLD para BRA em 2020 salvo em /content/importacoes//2020/WLD/BRA_exportacoes.json\n",
            "76 - Resultado das importações de BRA para WLD em 2020 salvo em /content/importacoes//2020/WLD/BRA_importacoes.json\n",
            "77 - Resultado das exportações de WLD para BRA em 2021 salvo em /content/importacoes//2021/WLD/BRA_exportacoes.json\n",
            "78 - Resultado das importações de BRA para WLD em 2021 salvo em /content/importacoes//2021/WLD/BRA_importacoes.json\n",
            "79 - Resultado das exportações de WLD para ARG em 2019 salvo em /content/importacoes//2019/WLD/ARG_exportacoes.json\n",
            "80 - Resultado das importações de ARG para WLD em 2019 salvo em /content/importacoes//2019/WLD/ARG_importacoes.json\n",
            "81 - Resultado das exportações de WLD para ARG em 2020 salvo em /content/importacoes//2020/WLD/ARG_exportacoes.json\n",
            "82 - Resultado das importações de ARG para WLD em 2020 salvo em /content/importacoes//2020/WLD/ARG_importacoes.json\n",
            "83 - Resultado das exportações de WLD para ARG em 2021 salvo em /content/importacoes//2021/WLD/ARG_exportacoes.json\n",
            "84 - Resultado das importações de ARG para WLD em 2021 salvo em /content/importacoes//2021/WLD/ARG_importacoes.json\n",
            "85 - Resultado das exportações de WLD para AFG em 2019 salvo em /content/importacoes//2019/WLD/AFG_exportacoes.json\n",
            "86 - Resultado das importações de AFG para WLD em 2019 salvo em /content/importacoes//2019/WLD/AFG_importacoes.json\n",
            "87 - Resultado das exportações de WLD para AFG em 2020 salvo em /content/importacoes//2020/WLD/AFG_exportacoes.json\n",
            "88 - Resultado das importações de AFG para WLD em 2020 salvo em /content/importacoes//2020/WLD/AFG_importacoes.json\n",
            "89 - Resultado das exportações de WLD para AFG em 2021 salvo em /content/importacoes//2021/WLD/AFG_exportacoes.json\n",
            "90 - Resultado das importações de AFG para WLD em 2021 salvo em /content/importacoes//2021/WLD/AFG_importacoes.json\n",
            "91 - Resultado das exportações de WLD para CHN em 2019 salvo em /content/importacoes//2019/WLD/CHN_exportacoes.json\n",
            "92 - Resultado das importações de CHN para WLD em 2019 salvo em /content/importacoes//2019/WLD/CHN_importacoes.json\n",
            "93 - Resultado das exportações de WLD para CHN em 2020 salvo em /content/importacoes//2020/WLD/CHN_exportacoes.json\n",
            "94 - Resultado das importações de CHN para WLD em 2020 salvo em /content/importacoes//2020/WLD/CHN_importacoes.json\n",
            "95 - Resultado das exportações de WLD para CHN em 2021 salvo em /content/importacoes//2021/WLD/CHN_exportacoes.json\n",
            "96 - Resultado das importações de CHN para WLD em 2021 salvo em /content/importacoes//2021/WLD/CHN_importacoes.json\n",
            "97 - Resultado das exportações de CHN para BRA em 2019 salvo em /content/importacoes//2019/CHN/BRA_exportacoes.json\n",
            "98 - Resultado das importações de BRA para CHN em 2019 salvo em /content/importacoes//2019/CHN/BRA_importacoes.json\n",
            "99 - Resultado das exportações de CHN para BRA em 2020 salvo em /content/importacoes//2020/CHN/BRA_exportacoes.json\n",
            "100 - Resultado das importações de BRA para CHN em 2020 salvo em /content/importacoes//2020/CHN/BRA_importacoes.json\n",
            "101 - Resultado das exportações de CHN para BRA em 2021 salvo em /content/importacoes//2021/CHN/BRA_exportacoes.json\n",
            "102 - Resultado das importações de BRA para CHN em 2021 salvo em /content/importacoes//2021/CHN/BRA_importacoes.json\n",
            "103 - Resultado das exportações de CHN para ARG em 2019 salvo em /content/importacoes//2019/CHN/ARG_exportacoes.json\n",
            "104 - Resultado das importações de ARG para CHN em 2019 salvo em /content/importacoes//2019/CHN/ARG_importacoes.json\n",
            "105 - Resultado das exportações de CHN para ARG em 2020 salvo em /content/importacoes//2020/CHN/ARG_exportacoes.json\n",
            "106 - Resultado das importações de ARG para CHN em 2020 salvo em /content/importacoes//2020/CHN/ARG_importacoes.json\n",
            "107 - Resultado das exportações de CHN para ARG em 2021 salvo em /content/importacoes//2021/CHN/ARG_exportacoes.json\n",
            "108 - Resultado das importações de ARG para CHN em 2021 salvo em /content/importacoes//2021/CHN/ARG_importacoes.json\n",
            "109 - Resultado das exportações de CHN para AFG em 2019 salvo em /content/importacoes//2019/CHN/AFG_exportacoes.json\n",
            "110 - Resultado das importações de AFG para CHN em 2019 salvo em /content/importacoes//2019/CHN/AFG_importacoes.json\n",
            "111 - Resultado das exportações de CHN para AFG em 2020 salvo em /content/importacoes//2020/CHN/AFG_exportacoes.json\n",
            "112 - Resultado das importações de AFG para CHN em 2020 salvo em /content/importacoes//2020/CHN/AFG_importacoes.json\n",
            "113 - Resultado das exportações de CHN para AFG em 2021 salvo em /content/importacoes//2021/CHN/AFG_exportacoes.json\n",
            "114 - Resultado das importações de AFG para CHN em 2021 salvo em /content/importacoes//2021/CHN/AFG_importacoes.json\n",
            "115 - Resultado das exportações de CHN para WLD em 2019 salvo em /content/importacoes//2019/CHN/WLD_exportacoes.json\n",
            "116 - Resultado das importações de WLD para CHN em 2019 salvo em /content/importacoes//2019/CHN/WLD_importacoes.json\n",
            "117 - Resultado das exportações de CHN para WLD em 2020 salvo em /content/importacoes//2020/CHN/WLD_exportacoes.json\n",
            "118 - Resultado das importações de WLD para CHN em 2020 salvo em /content/importacoes//2020/CHN/WLD_importacoes.json\n",
            "119 - Resultado das exportações de CHN para WLD em 2021 salvo em /content/importacoes//2021/CHN/WLD_exportacoes.json\n",
            "120 - Resultado das importações de WLD para CHN em 2021 salvo em /content/importacoes//2021/CHN/WLD_importacoes.json\n"
          ]
        }
      ]
    },
    {
      "cell_type": "code",
      "source": [],
      "metadata": {
        "id": "YWxwFUTW3s81"
      },
      "execution_count": 11,
      "outputs": []
    }
  ]
}