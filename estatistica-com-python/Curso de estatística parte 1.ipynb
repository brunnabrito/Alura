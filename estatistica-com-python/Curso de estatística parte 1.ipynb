{
 "cells": [
  {
   "cell_type": "markdown",
   "id": "c9bb6750",
   "metadata": {},
   "source": [
    "# 01. Qual o seu tipo de dado?"
   ]
  },
  {
   "cell_type": "code",
   "execution_count": 1,
   "id": "5ae4d397",
   "metadata": {},
   "outputs": [],
   "source": [
    "import pandas\n",
    "import numpy\n",
    "import seaborn\n",
    "import scipy"
   ]
  },
  {
   "cell_type": "code",
   "execution_count": 2,
   "id": "136b290c",
   "metadata": {},
   "outputs": [
    {
     "name": "stdout",
     "output_type": "stream",
     "text": [
      "Versão do pandas -> 1.3.4\n",
      "Versão do numpy -> 1.20.3\n",
      "Versão do seaborn -> 0.11.2\n",
      "Versão do scipy -> 1.7.1\n"
     ]
    }
   ],
   "source": [
    "print('Versão do pandas -> %s' % pandas.__version__)\n",
    "print('Versão do numpy -> %s' % numpy.__version__)\n",
    "print('Versão do seaborn -> %s' % seaborn.__version__)\n",
    "print('Versão do scipy -> %s' % scipy.__version__)"
   ]
  },
  {
   "cell_type": "code",
   "execution_count": null,
   "id": "966c715f",
   "metadata": {},
   "outputs": [],
   "source": [
    "#!pip install pandas=='0.22.0'\n",
    "#se quiser voltar uma versao anterior"
   ]
  }
 ],
 "metadata": {
  "kernelspec": {
   "display_name": "Python 3 (ipykernel)",
   "language": "python",
   "name": "python3"
  },
  "language_info": {
   "codemirror_mode": {
    "name": "ipython",
    "version": 3
   },
   "file_extension": ".py",
   "mimetype": "text/x-python",
   "name": "python",
   "nbconvert_exporter": "python",
   "pygments_lexer": "ipython3",
   "version": "3.9.7"
  }
 },
 "nbformat": 4,
 "nbformat_minor": 5
}
