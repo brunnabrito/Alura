{
 "cells": [
  {
   "cell_type": "markdown",
   "id": "f93c6b6c",
   "metadata": {},
   "source": [
    "## ATIVIDADES\n",
    "* 01\n",
    "Introdução\n",
    "02min\n",
    "* 02\n",
    "Relembrando classes e objetos\n",
    "12min\n",
    "* 03\n",
    "Com e sem inicializador\n",
    "* 04\n",
    "Adicionando atributos e métodos\n",
    "09min\n",
    "* 05\n",
    "Titularizando nomes\n",
    "* 06\n",
    "Encapsulando comportamento\n",
    "08min\n",
    "* 07\n",
    "Vantagens do property\n",
    "* 08\n",
    "Para saber mais: Atributos de classe\n",
    "* 09\n",
    "Mãos na massa"
   ]
  },
  {
   "cell_type": "code",
   "execution_count": null,
   "id": "537b98b9",
   "metadata": {},
   "outputs": [],
   "source": []
  }
 ],
 "metadata": {
  "kernelspec": {
   "display_name": "Python 3 (ipykernel)",
   "language": "python",
   "name": "python3"
  },
  "language_info": {
   "codemirror_mode": {
    "name": "ipython",
    "version": 3
   },
   "file_extension": ".py",
   "mimetype": "text/x-python",
   "name": "python",
   "nbconvert_exporter": "python",
   "pygments_lexer": "ipython3",
   "version": "3.9.7"
  }
 },
 "nbformat": 4,
 "nbformat_minor": 5
}
