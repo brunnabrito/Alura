{
 "cells": [
  {
   "cell_type": "markdown",
   "id": "63f4b6cb",
   "metadata": {},
   "source": [
    "# 01. Função e linguagem de alto nível"
   ]
  },
  {
   "cell_type": "markdown",
   "id": "8f8d710b",
   "metadata": {},
   "source": [
    "* Nesta aula:\n",
    "    * Aprendemos o que são variáveis;\n",
    "\n",
    "    * Criamos nossa primeira função;\n",
    "\n",
    "    * Entendemos a diferença entre linguagens de alto e baixo nível."
   ]
  },
  {
   "cell_type": "markdown",
   "id": "b80fc707",
   "metadata": {},
   "source": [
    "* 01 Introdução 2min\n",
    "* 02 Saudações\n",
    "* 03 Variáveis 8min\n",
    "* 04 Minha primeira função 8min\n",
    "* 05 Linguagem de alto nível 5min\n",
    "* 06 Faça como eu fiz na aula\n",
    "* 07 Função nome completo\n",
    "* 08 Alto nível vs Baixo nível"
   ]
  },
  {
   "cell_type": "code",
   "execution_count": 4,
   "id": "e5b27f27",
   "metadata": {},
   "outputs": [],
   "source": [
    "def saudacao():\n",
    "  nome = input('Qual o seu nome?')\n",
    "  print(f'Olá {nome}')"
   ]
  },
  {
   "cell_type": "code",
   "execution_count": 5,
   "id": "7fe3b946",
   "metadata": {},
   "outputs": [
    {
     "name": "stdout",
     "output_type": "stream",
     "text": [
      "Qual o seu nome?Brunna\n",
      "Olá Brunna\n"
     ]
    }
   ],
   "source": [
    "saudacao()"
   ]
  },
  {
   "cell_type": "code",
   "execution_count": 6,
   "id": "f6fc0f0e",
   "metadata": {},
   "outputs": [
    {
     "name": "stdout",
     "output_type": "stream",
     "text": [
      "Qual seu primeiro nome? Brunna\n",
      "Qual seu sobrenome? Brito\n",
      "Brunna Brito\n"
     ]
    }
   ],
   "source": [
    "def nome_completo():\n",
    " primeiro_nome = input('Qual seu primeiro nome? ')\n",
    " sobrenome = input('Qual seu sobrenome? ')\n",
    " nome_inteiro = primeiro_nome + ' ' + sobrenome\n",
    " print(nome_inteiro)\n",
    "\n",
    "nome_completo()"
   ]
  },
  {
   "cell_type": "markdown",
   "id": "0982f99d",
   "metadata": {},
   "source": [
    "# 02. Parâmetros, condicionais e conversão de tipos\n"
   ]
  },
  {
   "cell_type": "markdown",
   "id": "843ef8f0",
   "metadata": {},
   "source": [
    "### Parâmetros"
   ]
  },
  {
   "cell_type": "code",
   "execution_count": 7,
   "id": "89c38a9a",
   "metadata": {},
   "outputs": [],
   "source": [
    "def saudacao_com_parametros(nome_da_pessoa):\n",
    "  print(f'Olá {nome_da_pessoa}')"
   ]
  },
  {
   "cell_type": "code",
   "execution_count": 8,
   "id": "5e11ba42",
   "metadata": {},
   "outputs": [
    {
     "name": "stdout",
     "output_type": "stream",
     "text": [
      "Olá Brunna\n"
     ]
    }
   ],
   "source": [
    "saudacao_com_parametros('Brunna')"
   ]
  },
  {
   "cell_type": "markdown",
   "id": "3a1d07f2",
   "metadata": {},
   "source": [
    "### Condicionais"
   ]
  },
  {
   "cell_type": "code",
   "execution_count": 12,
   "id": "f76c9bd9",
   "metadata": {},
   "outputs": [
    {
     "name": "stdout",
     "output_type": "stream",
     "text": [
      "Tem permissão para dirigir\n"
     ]
    }
   ],
   "source": [
    "idade = 15\n",
    "\n",
    "def verica_se_pode_dirigir(idade):\n",
    "  if idade >= 18:\n",
    "   print('Tem permissão para dirigir')\n",
    "  else:\n",
    "    print('Não tem permissão para dirigir')\n",
    "    \n",
    "verica_se_pode_dirigir(18)"
   ]
  },
  {
   "cell_type": "markdown",
   "id": "d57e4dbd",
   "metadata": {},
   "source": [
    "### Conversão de tipos"
   ]
  },
  {
   "cell_type": "code",
   "execution_count": 13,
   "id": "d39ed1e1",
   "metadata": {},
   "outputs": [
    {
     "name": "stdout",
     "output_type": "stream",
     "text": [
      "<class 'function'>\n"
     ]
    }
   ],
   "source": [
    "def verifica_se_pode_dirigir_sem_parametro():\n",
    "  idade = input('Qual sua idade')\n",
    "  idade = int(idade)\n",
    "  if idade >= 18:\n",
    "    print('Tem permissão para dirigir')\n",
    "  else:\n",
    "    print('Não tem permissão para dirigir')\n",
    "    "
   ]
  },
  {
   "cell_type": "markdown",
   "id": "8216c298",
   "metadata": {},
   "source": [
    "# 03. Lista, repetições e tipo booleano"
   ]
  },
  {
   "cell_type": "markdown",
   "id": "15dd3131",
   "metadata": {},
   "source": [
    "* Nesta aula:\n",
    "    * Criamos nossa primeira lista no Python;\n",
    "\n",
    "    * Aprendemos a utilizar a estrutura de repetição for;\n",
    "\n",
    "    * Descobrimos o tipo booleano.\n",
    "\n"
   ]
  },
  {
   "cell_type": "markdown",
   "id": "af0b3b18",
   "metadata": {},
   "source": [
    "### Criando uma lista"
   ]
  },
  {
   "cell_type": "code",
   "execution_count": 21,
   "id": "ecc0409a",
   "metadata": {},
   "outputs": [
    {
     "name": "stdout",
     "output_type": "stream",
     "text": [
      "15\n",
      "[18, 22]\n",
      "[18, 22, 15]\n",
      "[22, 15, 50]\n",
      "50\n"
     ]
    }
   ],
   "source": [
    "idades = [18, 22, 15, 50]\n",
    "print(idades[2])\n",
    "print(idades[0:2])\n",
    "print(idades[0:3])\n",
    "print(idades[1:])\n",
    "print(idades[-1])"
   ]
  },
  {
   "cell_type": "markdown",
   "id": "84f4a188",
   "metadata": {},
   "source": [
    "### Laços e loops"
   ]
  },
  {
   "cell_type": "code",
   "execution_count": 24,
   "id": "d4e40317",
   "metadata": {},
   "outputs": [
    {
     "name": "stdout",
     "output_type": "stream",
     "text": [
      "15 anos de idade, NÃO TEM permissão para dirigir\n",
      "17 anos de idade, NÃO TEM permissão para dirigir\n",
      "21 anos de idade, TEM permissão para dirigir\n",
      "55 anos de idade, TEM permissão para dirigir\n"
     ]
    }
   ],
   "source": [
    "def verifica_se_pode_dirigir(idades):\n",
    "  for idade in idades:\n",
    "    if idade >= 18:\n",
    "      print(f'{idade} anos de idade, TEM permissão para dirigir')\n",
    "    else:\n",
    "      print(f'{idade} anos de idade, NÃO TEM permissão para dirigir')\n",
    "    \n",
    "verifica_se_pode_dirigir([15, 17, 21, 55])"
   ]
  },
  {
   "cell_type": "markdown",
   "id": "7d6c0c51",
   "metadata": {},
   "source": [
    "### Tipo booleano"
   ]
  },
  {
   "cell_type": "code",
   "execution_count": 27,
   "id": "561a71bc",
   "metadata": {},
   "outputs": [
    {
     "name": "stdout",
     "output_type": "stream",
     "text": [
      "Tem permissão para dirigir\n",
      "Não tem permissão para dirigir\n",
      "Tem permissão para dirigir\n"
     ]
    }
   ],
   "source": [
    "permissoes = []\n",
    "idades = [20, 14, 40]\n",
    "\n",
    "def verifica_se_pode_dirigir(idades, permissoes):\n",
    "    for idade in idades:\n",
    "      if idade >= 18:\n",
    "          permissoes.append(True)\n",
    "      else:\n",
    "          permissoes.append(False)\n",
    "\n",
    "verifica_se_pode_dirigir(idades, permissoes)\n",
    "\n",
    "for permissao in permissoes:\n",
    "  if permissao == True:\n",
    "    print('Tem permissão para dirigir')\n",
    "  else:\n",
    "    print('Não tem permissão para dirigir')"
   ]
  },
  {
   "cell_type": "markdown",
   "id": "565d423f",
   "metadata": {},
   "source": [
    "# 04. O sistema de imports"
   ]
  },
  {
   "cell_type": "markdown",
   "id": "c6c1d10f",
   "metadata": {},
   "source": [
    "* Nesta aula:\n",
    "    * Vimos que é possível armazenar elementos de diferentes tipos em uma lista;\n",
    "\n",
    "    * Aprendemos como importar o método randrange para gerar números inteiros aleatórios entre 0 e 10."
   ]
  },
  {
   "cell_type": "code",
   "execution_count": 29,
   "id": "24473d98",
   "metadata": {},
   "outputs": [
    {
     "name": "stdout",
     "output_type": "stream",
     "text": [
      "O elemento Guilherme é do tipo:  <class 'str'>\n",
      "O elemento 28 é do tipo:  <class 'int'>\n",
      "O elemento True é do tipo:  <class 'bool'>\n",
      "O elemento 18 é do tipo:  <class 'str'>\n"
     ]
    }
   ],
   "source": [
    "lista = ['Guilherme', 28, True, '18']\n",
    "\n",
    "for elemento in lista: \n",
    "  print(f'O elemento {elemento} é do tipo: ', type(elemento))"
   ]
  },
  {
   "cell_type": "code",
   "execution_count": 51,
   "id": "1cefe96c",
   "metadata": {},
   "outputs": [],
   "source": [
    "from random import randrange, seed\n",
    "seed(10)"
   ]
  },
  {
   "cell_type": "code",
   "execution_count": 52,
   "id": "9c055a93",
   "metadata": {},
   "outputs": [
    {
     "data": {
      "text/plain": [
       "9"
      ]
     },
     "execution_count": 52,
     "metadata": {},
     "output_type": "execute_result"
    }
   ],
   "source": [
    "randrange(0,11)"
   ]
  },
  {
   "cell_type": "markdown",
   "id": "6377981c",
   "metadata": {},
   "source": [
    "* Nossa lista está criada, mas voltemos ao conceito de \"pseudo números\" que entramos em contato anteriormente. Esse termo é utilizado porque a sequência de números gerada pode ser manipulada de formas diferenes.\n",
    "\n",
    "* Existe na biblioteca random uma função chamada seed(), em que podemos configurar o número inicial e sempre obter os mesmos valores na sequência.\n",
    "\n",
    "* Se escrevermos, depois da importação do seed()"
   ]
  },
  {
   "cell_type": "code",
   "execution_count": 53,
   "id": "5116b892",
   "metadata": {},
   "outputs": [
    {
     "name": "stdout",
     "output_type": "stream",
     "text": [
      "[[0], [6], [7], [9], [0], [3], [7], [7]]\n"
     ]
    }
   ],
   "source": [
    "notas_matematica = []\n",
    "\n",
    "for notas in range(8):\n",
    "    notas_matematica.append([randrange(0,11)])\n",
    "    \n",
    "print(notas_matematica)"
   ]
  },
  {
   "cell_type": "markdown",
   "id": "805ba35c",
   "metadata": {},
   "source": [
    "# 05. Plotando com Matplotlib"
   ]
  },
  {
   "cell_type": "markdown",
   "id": "fdd3cac4",
   "metadata": {},
   "source": [
    "* Nesta aula:\n",
    "    \n",
    "    * Aprendemos como importar a \"Matplotlib\" conforme a convenção como \"plt\";\n",
    "\n",
    "    * Vimos que é possível criar listas a partir do código \"range\";\n",
    "\n",
    "    * Aprendemos como criar gráficos, definindo título, rótulos e marcador, além de ocultar outros detalhes indesejáveis."
   ]
  },
  {
   "cell_type": "code",
   "execution_count": 56,
   "id": "0ce71a40",
   "metadata": {},
   "outputs": [],
   "source": [
    "import matplotlib.pyplot as plt"
   ]
  },
  {
   "cell_type": "code",
   "execution_count": 57,
   "id": "07bd9ba0",
   "metadata": {},
   "outputs": [
    {
     "data": {
      "text/plain": [
       "[<matplotlib.lines.Line2D at 0x7fd57ddf05e0>]"
      ]
     },
     "execution_count": 57,
     "metadata": {},
     "output_type": "execute_result"
    },
    {
     "data": {
      "image/png": "[encoded data removed]",
      "text/plain": [
       "<Figure size 432x288 with 1 Axes>"
      ]
     },
     "metadata": {
      "needs_background": "light"
     },
     "output_type": "display_data"
    }
   ],
   "source": [
    "x = list(range(1,9))\n",
    "y = notas_matematica\n",
    "plt.plot(x, y)"
   ]
  },
  {
   "cell_type": "code",
   "execution_count": 58,
   "id": "a2ffc383",
   "metadata": {},
   "outputs": [
    {
     "data": {
      "image/png": "[encoded data removed]",
      "text/plain": [
       "<Figure size 432x288 with 1 Axes>"
      ]
     },
     "metadata": {
      "needs_background": "light"
     },
     "output_type": "display_data"
    }
   ],
   "source": [
    "x = list(range(1,9))\n",
    "y = notas_matematica\n",
    "plt.plot(x, y)\n",
    "plt.title('Notas de matemática')\n",
    "plt.show()"
   ]
  },
  {
   "cell_type": "code",
   "execution_count": 59,
   "id": "02bb9317",
   "metadata": {},
   "outputs": [
    {
     "data": {
      "image/png": "[encoded data removed]",
      "text/plain": [
       "<Figure size 432x288 with 1 Axes>"
      ]
     },
     "metadata": {
      "needs_background": "light"
     },
     "output_type": "display_data"
    }
   ],
   "source": [
    "x = list(range(1,9))\n",
    "y = notas_matematica\n",
    "plt.plot(x, y)\n",
    "plt.title('Notas de matemática')\n",
    "plt.xlabel('Provas')\n",
    "plt.ylabel('Notas')\n",
    "plt.show()"
   ]
  },
  {
   "cell_type": "code",
   "execution_count": 60,
   "id": "4cf8a9ff",
   "metadata": {},
   "outputs": [
    {
     "data": {
      "image/png": "[encoded data removed]",
      "text/plain": [
       "<Figure size 432x288 with 1 Axes>"
      ]
     },
     "metadata": {
      "needs_background": "light"
     },
     "output_type": "display_data"
    }
   ],
   "source": [
    "x = list(range(1,9))\n",
    "y = notas_matematica\n",
    "plt.plot(x, y, marker='o')\n",
    "plt.title('Notas de matemática')\n",
    "plt.xlabel('Provas')\n",
    "plt.ylabel('Notas')\n",
    "plt.show()"
   ]
  },
  {
   "cell_type": "code",
   "execution_count": null,
   "id": "37cd2359",
   "metadata": {},
   "outputs": [],
   "source": []
  }
 ],
 "metadata": {
  "kernelspec": {
   "display_name": "Python 3 (ipykernel)",
   "language": "python",
   "name": "python3"
  },
  "language_info": {
   "codemirror_mode": {
    "name": "ipython",
    "version": 3
   },
   "file_extension": ".py",
   "mimetype": "text/x-python",
   "name": "python",
   "nbconvert_exporter": "python",
   "pygments_lexer": "ipython3",
   "version": "3.9.7"
  }
 },
 "nbformat": 4,
 "nbformat_minor": 5
}
