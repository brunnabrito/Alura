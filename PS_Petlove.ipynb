{
  "nbformat": 4,
  "nbformat_minor": 0,
  "metadata": {
    "colab": {
      "name": "PS-Petlove.ipynb",
      "provenance": [],
      "toc_visible": true,
      "authorship_tag": "ABX9TyNZgfY2isMzk/RxtNnpuQb9",
      "include_colab_link": true
    },
    "kernelspec": {
      "name": "python3",
      "display_name": "Python 3"
    },
    "language_info": {
      "name": "python"
    }
  },
  "cells": [
    {
      "cell_type": "markdown",
      "metadata": {
        "id": "view-in-github",
        "colab_type": "text"
      },
      "source": [
        "<a href=\"https://colab.research.google.com/github/brunnabrito/Alura/blob/main/PS_Petlove.ipynb\" target=\"_parent\"><img src=\"https://colab.research.google.com/assets/colab-badge.svg\" alt=\"Open In Colab\"/></a>"
      ]
    },
    {
      "cell_type": "markdown",
      "source": [
        "# <font color='purple' style='font-size: 30px;'>Analise de Churn da Pet Love no ano de 2020</font>\n",
        "<hr style='border: 2px solid black;'>"
      ],
      "metadata": {
        "id": "p2GA_dTCpKU7"
      }
    },
    {
      "cell_type": "markdown",
      "source": [
        "# **1 Introdução**"
      ],
      "metadata": {
        "id": "FRHz7JDKvfFy"
      }
    },
    {
      "cell_type": "markdown",
      "source": [
        "## **1.1 O problema**\n",
        "\n",
        "A equipe de assinaturas tem como objetivo reduzir a perda de assinantes. \n",
        "\n",
        "O conceito de “Churn” refere-se a perda de qualquer usuário que assinou o serviço de assinatura da Petlove e o cancelou em algum momento após a contratação.\n",
        "\n",
        "Ao analisar os dados dos últimos meses, apesar de todas as melhorias de usabilidade da plataforma, o churn vem aumentando.\n",
        "\n",
        "![churn.png](data:image/png;base64,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)"
      ],
      "metadata": {
        "id": "Ejgr94FcvmX0"
      }
    },
    {
      "cell_type": "markdown",
      "source": [
        "# **2 Entendendo os dados**"
      ],
      "metadata": {
        "id": "6n2qj692xRyu"
      }
    },
    {
      "cell_type": "markdown",
      "source": [
        "## **2.1 Importando as bibliotecas**"
      ],
      "metadata": {
        "id": "ua04H2XR7MtU"
      }
    },
    {
      "cell_type": "markdown",
      "source": [
        "\n",
        "**Eixo base**\n",
        "\n",
        "* NumPy: Biblioteca de manipulação de arrays multidimensionais de alta performance, possui diversas funções matemáticas e estatísticas.\n",
        "\n",
        "* Pandas: Principal biblioteca de manipulação e análise de dados. Possui diversos métodos para agrupar, filtrar, manipular, limpar e combinar dados de forma simples.\n",
        "\n",
        "\n",
        "**Data Visualization**\n",
        "\n",
        "* Matplotlib: O matplotlib é uma biblioteca com recursos para a geração de gráficos 2D a partir de arrays. \n",
        "\n",
        "* Seaborn: O Seaborn é uma biblioteca de visualização de dados do Python baseado no Matplotlib. Ele provê uma interface de alto nível para construção de gráficos estatísticos atrativos e informativos."
      ],
      "metadata": {
        "id": "Bo8WR7ei7zVf"
      }
    },
    {
      "cell_type": "code",
      "execution_count": 229,
      "metadata": {
        "id": "kcFe2xz5nOLe"
      },
      "outputs": [],
      "source": [
        "# Carregando os pacotes do Python necessários \n",
        "import numpy as np\n",
        "import pandas as pd\n",
        "import matplotlib.pyplot as plt\n",
        "import seaborn as sns"
      ]
    },
    {
      "cell_type": "markdown",
      "source": [
        "## **2.2 Carregando os dados**"
      ],
      "metadata": {
        "id": "fCmidZ0_8cP1"
      }
    },
    {
      "cell_type": "code",
      "source": [
        "data = pd.read_csv('https://raw.githubusercontent.com/petlove/vagas/master/data/bi-analysis/data-test-analytics.csv')"
      ],
      "metadata": {
        "id": "g2uuArb6oV-0"
      },
      "execution_count": 230,
      "outputs": []
    },
    {
      "cell_type": "markdown",
      "metadata": {
        "id": "-1mBH6AiKT3S"
      },
      "source": [
        "## **2.3 Descrevendo os dados**\n",
        "\n",
        "Nessa etapa os dados são descritos com objetivo de conhecermos seu formato, os tipos de variáveis (numéricas ou categóricas), bem como aspectos gerais úteis ao entendimento geral do problema."
      ]
    },
    {
      "cell_type": "code",
      "source": [
        "# Conhecendo o formato do dataset.\n",
        "\n",
        "data.shape"
      ],
      "metadata": {
        "colab": {
          "base_uri": "https://localhost:8080/"
        },
        "id": "Y1hX5eZvobTM",
        "outputId": "7827b083-7a8c-4061-ccd2-15f32ed67869"
      },
      "execution_count": 231,
      "outputs": [
        {
          "output_type": "execute_result",
          "data": {
            "text/plain": [
              "(10000, 20)"
            ]
          },
          "metadata": {},
          "execution_count": 231
        }
      ]
    },
    {
      "cell_type": "markdown",
      "source": [
        "Em uma análise inicial percebe-se que o dataset apresenta um total de 10000 linhas, entradas ou observações, bem como um total de 20 colunas"
      ],
      "metadata": {
        "id": "2OpPgz4w8-Lv"
      }
    },
    {
      "cell_type": "code",
      "source": [
        "# Conhecendo as varíaveis e seus tipos.\n",
        "\n",
        "data.info()"
      ],
      "metadata": {
        "colab": {
          "base_uri": "https://localhost:8080/"
        },
        "id": "0irW-Wz9owxH",
        "outputId": "bd976a67-6e8b-413c-cf66-12a2d608f50a"
      },
      "execution_count": 232,
      "outputs": [
        {
          "output_type": "stream",
          "name": "stdout",
          "text": [
            "<class 'pandas.core.frame.DataFrame'>\n",
            "RangeIndex: 10000 entries, 0 to 9999\n",
            "Data columns (total 20 columns):\n",
            " #   Column              Non-Null Count  Dtype  \n",
            "---  ------              --------------  -----  \n",
            " 0   id                  10000 non-null  object \n",
            " 1   created_at          10000 non-null  object \n",
            " 2   updated_at          10000 non-null  object \n",
            " 3   deleted_at          505 non-null    object \n",
            " 4   name_hash           10000 non-null  object \n",
            " 5   email_hash          10000 non-null  object \n",
            " 6   address_hash        10000 non-null  object \n",
            " 7   birth_date          10000 non-null  object \n",
            " 8   status              10000 non-null  object \n",
            " 9   version             10000 non-null  object \n",
            " 10  city                10000 non-null  object \n",
            " 11  state               10000 non-null  object \n",
            " 12  neighborhood        10000 non-null  object \n",
            " 13  last_date_purchase  10000 non-null  object \n",
            " 14  average_ticket      10000 non-null  float64\n",
            " 15  items_quantity      10000 non-null  int64  \n",
            " 16  all_revenue         10000 non-null  float64\n",
            " 17  all_orders          10000 non-null  int64  \n",
            " 18  recency             10000 non-null  int64  \n",
            " 19  marketing_source    10000 non-null  object \n",
            "dtypes: float64(2), int64(3), object(15)\n",
            "memory usage: 1.5+ MB\n"
          ]
        }
      ]
    },
    {
      "cell_type": "markdown",
      "source": [
        "**Dicionário das variáveis**\n",
        "\n",
        "* `Column` - Description\n",
        "* `id` - Identificação do cliente\n",
        "* `created_at` - Data de criação da assinatura\n",
        "* `updated_at` - Data da última modificação da assinatura\n",
        "* `deleted_at` - Data de cancelamento da assinatura\n",
        "* `name_hash` - Nome do usuário (criptografado)\n",
        "* `email_hash` - Email (criptografado)\n",
        "* `address_hash` - Endereço (criptografado)\n",
        "* `birth_date` - Data de aniversário do cliente\n",
        "* `status` - Status da assinatura\n",
        "* `version` - Versão da assinatura\n",
        "* `city` - Cidade do cliente\n",
        "* `state` - Estado do cliente\n",
        "* `neighborhood` - Bairro do cliente\n",
        "* `last_date_purchase` - Data do último pedido que ocorreu pela assinatura\n",
        "* `average_ticket` - Média de gasto por pedido\n",
        "* `items_quantity` - Média de itens na assinatura\n",
        "* `all_revenue` - Total de receita realizado pelo cliente\n",
        "* `all_orders` - Total de pedidos realizado pelo cliente\n",
        "* `recency` - Tempo desde a última compra do cliente\n",
        "* `marketing_source` - Canal de marketing que converteu a assinatura\n"
      ],
      "metadata": {
        "id": "pJ46yAte9xGC"
      }
    },
    {
      "cell_type": "markdown",
      "source": [
        "## **2.4 Estatísticas Descritivas**\n",
        "\n",
        "Agora que já conhecemos a estrutura de nossos dados, passamos para etapa de identificação da qualidade de nossos dados, por meio da aplicação de técnicas de estatística descritiva, com especial atenção para identificação de valores faltantes, presença de outliers, dentre outras questões relevantes nesta fase inicial."
      ],
      "metadata": {
        "id": "BcdKBZe6EdeS"
      }
    },
    {
      "cell_type": "code",
      "source": [
        "# Cálculo do percentual de dados faltantes no Dataset.\n",
        "\n",
        "(data.isnull().sum() / data.shape[0]).sort_values(ascending=False)"
      ],
      "metadata": {
        "colab": {
          "base_uri": "https://localhost:8080/"
        },
        "id": "vr_rTGSmEh57",
        "outputId": "9f7d9058-d5f4-467c-9e37-23b50a0643f4"
      },
      "execution_count": 233,
      "outputs": [
        {
          "output_type": "execute_result",
          "data": {
            "text/plain": [
              "deleted_at            0.9495\n",
              "id                    0.0000\n",
              "state                 0.0000\n",
              "recency               0.0000\n",
              "all_orders            0.0000\n",
              "all_revenue           0.0000\n",
              "items_quantity        0.0000\n",
              "average_ticket        0.0000\n",
              "last_date_purchase    0.0000\n",
              "neighborhood          0.0000\n",
              "city                  0.0000\n",
              "created_at            0.0000\n",
              "version               0.0000\n",
              "status                0.0000\n",
              "birth_date            0.0000\n",
              "address_hash          0.0000\n",
              "email_hash            0.0000\n",
              "name_hash             0.0000\n",
              "updated_at            0.0000\n",
              "marketing_source      0.0000\n",
              "dtype: float64"
            ]
          },
          "metadata": {},
          "execution_count": 233
        }
      ]
    },
    {
      "cell_type": "code",
      "source": [
        "data['deleted_at'].count()"
      ],
      "metadata": {
        "colab": {
          "base_uri": "https://localhost:8080/"
        },
        "id": "RBxPAJx7GUOV",
        "outputId": "b7fa338b-6189-4db5-a7fd-974b04c56051"
      },
      "execution_count": 234,
      "outputs": [
        {
          "output_type": "execute_result",
          "data": {
            "text/plain": [
              "505"
            ]
          },
          "metadata": {},
          "execution_count": 234
        }
      ]
    },
    {
      "cell_type": "markdown",
      "source": [
        "**Quanto à questão de dados faltantes, em uma breve verificação podemos identificar que:**\n",
        "\n",
        "* A coluna **`deleted_at`** que motra a Data de cancelamento da assinatura possui 94,95% dos seus valores faltantes. Este é o percentual de usuários ativos desta amostra.\n",
        "\n",
        "* 505 foram o total de cancelamentos."
      ],
      "metadata": {
        "id": "Va1AkfeHEw_E"
      }
    },
    {
      "cell_type": "code",
      "source": [
        "# Contrução dos histogramas das variáveis do dataset.\n",
        "\n",
        "data.hist(bins=15, \n",
        "          figsize=(15,15), \n",
        "          grid=True\n",
        "          );"
      ],
      "metadata": {
        "colab": {
          "base_uri": "https://localhost:8080/",
          "height": 879
        },
        "id": "veT-qwNRExlj",
        "outputId": "305846a4-b057-4436-f6e5-93a3435e1f2d"
      },
      "execution_count": 235,
      "outputs": [
        {
          "output_type": "display_data",
          "data": {
            "image/png": "[encoded data removed]",
            "text/plain": [
              "<Figure size 1080x1080 with 6 Axes>"
            ]
          },
          "metadata": {
            "needs_background": "light"
          }
        }
      ]
    },
    {
      "cell_type": "markdown",
      "source": [
        "**Quanto à questão da presença de outliers, em uma rápida análise podemos identificar que:** \n",
        "\n",
        "Pela distribuição dos histogramas verificamos uma uniformidade dos dados e não temos indícios de presença de grandes *outliers*, exceto na variável `regency` que será analisada mais de perto. \n",
        "\n",
        "Para confirmar, há duas maneiras rápidas que auxiliam a detecção de *outliers*. São elas:\n",
        "\n",
        "* Resumo estatístico por meio do método `describe()`\n",
        "\n",
        "* Plotar `boxplots` para a variável.\n"
      ],
      "metadata": {
        "id": "XVB7uv0sPInt"
      }
    },
    {
      "cell_type": "code",
      "source": [
        "data.describe()"
      ],
      "metadata": {
        "colab": {
          "base_uri": "https://localhost:8080/",
          "height": 300
        },
        "id": "Xc6HhbSSP5EV",
        "outputId": "cc1d2f3a-169c-46b6-8041-26cb63a5df9e"
      },
      "execution_count": 236,
      "outputs": [
        {
          "output_type": "execute_result",
          "data": {
            "text/html": [
              "\n",
              "  <div id=\"df-c219ea7a-42c1-4e35-b6ef-f17b36905704\">\n",
              "    <div class=\"colab-df-container\">\n",
              "      <div>\n",
              "<style scoped>\n",
              "    .dataframe tbody tr th:only-of-type {\n",
              "        vertical-align: middle;\n",
              "    }\n",
              "\n",
              "    .dataframe tbody tr th {\n",
              "        vertical-align: top;\n",
              "    }\n",
              "\n",
              "    .dataframe thead th {\n",
              "        text-align: right;\n",
              "    }\n",
              "</style>\n",
              "<table border=\"1\" class=\"dataframe\">\n",
              "  <thead>\n",
              "    <tr style=\"text-align: right;\">\n",
              "      <th></th>\n",
              "      <th>average_ticket</th>\n",
              "      <th>items_quantity</th>\n",
              "      <th>all_revenue</th>\n",
              "      <th>all_orders</th>\n",
              "      <th>recency</th>\n",
              "    </tr>\n",
              "  </thead>\n",
              "  <tbody>\n",
              "    <tr>\n",
              "      <th>count</th>\n",
              "      <td>10000.000000</td>\n",
              "      <td>10000.00000</td>\n",
              "      <td>10000.000000</td>\n",
              "      <td>10000.000000</td>\n",
              "      <td>10000.000000</td>\n",
              "    </tr>\n",
              "    <tr>\n",
              "      <th>mean</th>\n",
              "      <td>216.894709</td>\n",
              "      <td>8.49980</td>\n",
              "      <td>1174.888603</td>\n",
              "      <td>5.415400</td>\n",
              "      <td>67.192900</td>\n",
              "    </tr>\n",
              "    <tr>\n",
              "      <th>std</th>\n",
              "      <td>22.757213</td>\n",
              "      <td>3.02604</td>\n",
              "      <td>763.141973</td>\n",
              "      <td>3.457577</td>\n",
              "      <td>175.723276</td>\n",
              "    </tr>\n",
              "    <tr>\n",
              "      <th>min</th>\n",
              "      <td>131.378672</td>\n",
              "      <td>1.00000</td>\n",
              "      <td>0.000000</td>\n",
              "      <td>0.000000</td>\n",
              "      <td>1.000000</td>\n",
              "    </tr>\n",
              "    <tr>\n",
              "      <th>25%</th>\n",
              "      <td>201.398851</td>\n",
              "      <td>6.00000</td>\n",
              "      <td>494.873564</td>\n",
              "      <td>2.000000</td>\n",
              "      <td>31.000000</td>\n",
              "    </tr>\n",
              "    <tr>\n",
              "      <th>50%</th>\n",
              "      <td>217.019478</td>\n",
              "      <td>8.00000</td>\n",
              "      <td>1172.751918</td>\n",
              "      <td>5.000000</td>\n",
              "      <td>35.000000</td>\n",
              "    </tr>\n",
              "    <tr>\n",
              "      <th>75%</th>\n",
              "      <td>232.455042</td>\n",
              "      <td>11.00000</td>\n",
              "      <td>1798.475045</td>\n",
              "      <td>8.000000</td>\n",
              "      <td>39.000000</td>\n",
              "    </tr>\n",
              "    <tr>\n",
              "      <th>max</th>\n",
              "      <td>303.386848</td>\n",
              "      <td>19.00000</td>\n",
              "      <td>3225.654163</td>\n",
              "      <td>11.000000</td>\n",
              "      <td>1820.000000</td>\n",
              "    </tr>\n",
              "  </tbody>\n",
              "</table>\n",
              "</div>\n",
              "      <button class=\"colab-df-convert\" onclick=\"convertToInteractive('df-c219ea7a-42c1-4e35-b6ef-f17b36905704')\"\n",
              "              title=\"Convert this dataframe to an interactive table.\"\n",
              "              style=\"display:none;\">\n",
              "        \n",
              "  <svg xmlns=\"http://www.w3.org/2000/svg\" height=\"24px\"viewBox=\"0 0 24 24\"\n",
              "       width=\"24px\">\n",
              "    <path d=\"M0 0h24v24H0V0z\" fill=\"none\"/>\n",
              "    <path d=\"M18.56 5.44l.94 2.06.94-2.06 2.06-.94-2.06-.94-.94-2.06-.94 2.06-2.06.94zm-11 1L8.5 8.5l.94-2.06 2.06-.94-2.06-.94L8.5 2.5l-.94 2.06-2.06.94zm10 10l.94 2.06.94-2.06 2.06-.94-2.06-.94-.94-2.06-.94 2.06-2.06.94z\"/><path d=\"M17.41 7.96l-1.37-1.37c-.4-.4-.92-.59-1.43-.59-.52 0-1.04.2-1.43.59L10.3 9.45l-7.72 7.72c-.78.78-.78 2.05 0 2.83L4 21.41c.39.39.9.59 1.41.59.51 0 1.02-.2 1.41-.59l7.78-7.78 2.81-2.81c.8-.78.8-2.07 0-2.86zM5.41 20L4 18.59l7.72-7.72 1.47 1.35L5.41 20z\"/>\n",
              "  </svg>\n",
              "      </button>\n",
              "      \n",
              "  <style>\n",
              "    .colab-df-container {\n",
              "      display:flex;\n",
              "      flex-wrap:wrap;\n",
              "      gap: 12px;\n",
              "    }\n",
              "\n",
              "    .colab-df-convert {\n",
              "      background-color: #E8F0FE;\n",
              "      border: none;\n",
              "      border-radius: 50%;\n",
              "      cursor: pointer;\n",
              "      display: none;\n",
              "      fill: #1967D2;\n",
              "      height: 32px;\n",
              "      padding: 0 0 0 0;\n",
              "      width: 32px;\n",
              "    }\n",
              "\n",
              "    .colab-df-convert:hover {\n",
              "      background-color: #E2EBFA;\n",
              "      box-shadow: 0px 1px 2px rgba(60, 64, 67, 0.3), 0px 1px 3px 1px rgba(60, 64, 67, 0.15);\n",
              "      fill: #174EA6;\n",
              "    }\n",
              "\n",
              "    [theme=dark] .colab-df-convert {\n",
              "      background-color: #3B4455;\n",
              "      fill: #D2E3FC;\n",
              "    }\n",
              "\n",
              "    [theme=dark] .colab-df-convert:hover {\n",
              "      background-color: #434B5C;\n",
              "      box-shadow: 0px 1px 3px 1px rgba(0, 0, 0, 0.15);\n",
              "      filter: drop-shadow(0px 1px 2px rgba(0, 0, 0, 0.3));\n",
              "      fill: #FFFFFF;\n",
              "    }\n",
              "  </style>\n",
              "\n",
              "      <script>\n",
              "        const buttonEl =\n",
              "          document.querySelector('#df-c219ea7a-42c1-4e35-b6ef-f17b36905704 button.colab-df-convert');\n",
              "        buttonEl.style.display =\n",
              "          google.colab.kernel.accessAllowed ? 'block' : 'none';\n",
              "\n",
              "        async function convertToInteractive(key) {\n",
              "          const element = document.querySelector('#df-c219ea7a-42c1-4e35-b6ef-f17b36905704');\n",
              "          const dataTable =\n",
              "            await google.colab.kernel.invokeFunction('convertToInteractive',\n",
              "                                                     [key], {});\n",
              "          if (!dataTable) return;\n",
              "\n",
              "          const docLinkHtml = 'Like what you see? Visit the ' +\n",
              "            '<a target=\"_blank\" href=https://colab.research.google.com/notebooks/data_table.ipynb>data table notebook</a>'\n",
              "            + ' to learn more about interactive tables.';\n",
              "          element.innerHTML = '';\n",
              "          dataTable['output_type'] = 'display_data';\n",
              "          await google.colab.output.renderOutput(dataTable, element);\n",
              "          const docLink = document.createElement('div');\n",
              "          docLink.innerHTML = docLinkHtml;\n",
              "          element.appendChild(docLink);\n",
              "        }\n",
              "      </script>\n",
              "    </div>\n",
              "  </div>\n",
              "  "
            ],
            "text/plain": [
              "       average_ticket  items_quantity   all_revenue    all_orders       recency\n",
              "count    10000.000000     10000.00000  10000.000000  10000.000000  10000.000000\n",
              "mean       216.894709         8.49980   1174.888603      5.415400     67.192900\n",
              "std         22.757213         3.02604    763.141973      3.457577    175.723276\n",
              "min        131.378672         1.00000      0.000000      0.000000      1.000000\n",
              "25%        201.398851         6.00000    494.873564      2.000000     31.000000\n",
              "50%        217.019478         8.00000   1172.751918      5.000000     35.000000\n",
              "75%        232.455042        11.00000   1798.475045      8.000000     39.000000\n",
              "max        303.386848        19.00000   3225.654163     11.000000   1820.000000"
            ]
          },
          "metadata": {},
          "execution_count": 236
        }
      ]
    },
    {
      "cell_type": "markdown",
      "source": [
        "**Quanto ao resumo das estatísticas, das variáveis numéricas do dataset, podemos verificar que:**\n",
        "\n",
        "* O tempo desde a última compra do cliente (**`recency`**) possui 75% dos valores abaixo de 39, porém seu valor máximo é 1820.\n",
        "\n",
        "* O desvio padrão é muito superior à média, indicando grande dispersão do tempo de compra."
      ],
      "metadata": {
        "id": "cepyRSa5WbRx"
      }
    },
    {
      "cell_type": "code",
      "source": [
        "# Construção do Boxplot\n",
        "\n",
        "data.plot(kind='box', vert=False, figsize=(20, 10))\n",
        "plt.grid(True)\n",
        "plt.show()\n",
        "\n"
      ],
      "metadata": {
        "colab": {
          "base_uri": "https://localhost:8080/",
          "height": 576
        },
        "id": "wRzmTXrPQXv9",
        "outputId": "d916f8b2-e595-4998-f42f-f52f2297eb67"
      },
      "execution_count": 237,
      "outputs": [
        {
          "output_type": "display_data",
          "data": {
            "image/png": "[encoded data removed]",
            "text/plain": [
              "<Figure size 1440x720 with 1 Axes>"
            ]
          },
          "metadata": {
            "needs_background": "light"
          }
        }
      ]
    },
    {
      "cell_type": "code",
      "source": [
        "# Verificar a quantidade de valores acima de 67 dias (média) para variável recency.\n",
        "\n",
        "print(\"recency: valores acima de 67:\")\n",
        "print(f\"{len(data[data.recency > 67])} entradas\")\n",
        "print(f\"{(len(data[data.recency > 67]) / data.shape[0])*100}%\")"
      ],
      "metadata": {
        "colab": {
          "base_uri": "https://localhost:8080/"
        },
        "id": "WSY9pD9RaEAo",
        "outputId": "b4668f6a-f24e-4d45-eb76-423927e2ad6d"
      },
      "execution_count": 238,
      "outputs": [
        {
          "output_type": "stream",
          "name": "stdout",
          "text": [
            "recency: valores acima de 67:\n",
            "472 entradas\n",
            "4.72%\n"
          ]
        }
      ]
    },
    {
      "cell_type": "markdown",
      "source": [
        "**Quanto à construção dos Boxplots para verificar a presença de outliers, podemos verificar que:**\n",
        "\n",
        "* Considerando-se a variável **recency** inicialmente havia uma suspeita de presença de outliers\n",
        "\n",
        "* Entretanto que mesmo havendo valores muito superiores à média estes dados serão mantidos, pois numa estratégia de retenção ou conversão eles podem ser alvos de um plano de ação. Já que é menos custoso trabalhar com quem já conhece a marca do que apresentar a novos clientes. "
      ],
      "metadata": {
        "id": "5nDyFPG0Tqvn"
      }
    },
    {
      "cell_type": "markdown",
      "metadata": {
        "id": "tv1CdXrJA5s8"
      },
      "source": [
        "# **3 Preparação e limpeza dos dados**\n",
        "\n",
        "Nesta etapa estaremos limpando os dados, integrando os dados, formatando os dados, construindo novos dados, para enfim, selecionar os dados que serão utilizados na construção de nosso modelo (análise exploratória de dados)."
      ]
    },
    {
      "cell_type": "code",
      "source": [
        "# Fazer a cópia de segurança para um novo dataset.\n",
        "\n",
        "data_clean = data.copy()"
      ],
      "metadata": {
        "id": "eQDCAyK_f71s"
      },
      "execution_count": 353,
      "outputs": []
    },
    {
      "cell_type": "markdown",
      "source": [
        "## **3.1.Limpeza dos Dados**"
      ],
      "metadata": {
        "id": "P9mXmm4yf6YW"
      }
    },
    {
      "cell_type": "markdown",
      "source": [
        "Buscou-se remover as variáveis referente à identificação do usuário pois não são determinantes para o resultado final desta análise, porém será mantido o id pois se for preciso poderemos fazer um join posteriormente para utilizar os dados em campanhas.\n"
      ],
      "metadata": {
        "id": "mPRgdqTEkuok"
      }
    },
    {
      "cell_type": "code",
      "source": [
        "data_clean.drop(columns = ['name_hash','email_hash', 'address_hash'], inplace=True)"
      ],
      "metadata": {
        "id": "beItD8vdk43D"
      },
      "execution_count": 354,
      "outputs": []
    },
    {
      "cell_type": "markdown",
      "source": [
        "## **3.2 Convertendo valores**\n",
        "\n",
        "Nesta etapa vamos converter as variaveis de data para o formato datetime"
      ],
      "metadata": {
        "id": "tNkw81AQnIty"
      }
    },
    {
      "cell_type": "code",
      "source": [
        "data_clean['created_at'] = pd.to_datetime(data_clean['created_at'])\n",
        "data_clean['updated_at'] = pd.to_datetime(data_clean['updated_at'])\n",
        "data_clean['deleted_at'] = pd.to_datetime(data_clean['deleted_at'])\n",
        "data_clean['last_date_purchase'] = pd.to_datetime(data_clean['last_date_purchase'])\n",
        "data_clean['birth_date'] = pd.to_datetime(data_clean['birth_date'])"
      ],
      "metadata": {
        "id": "HQzyMnWRoHUE"
      },
      "execution_count": 355,
      "outputs": []
    },
    {
      "cell_type": "markdown",
      "source": [
        "## **3.3 Criando colunas úteis**\n",
        "\n",
        "Nesta etapa vamos criar colunas úteis à análise"
      ],
      "metadata": {
        "id": "mIAZDDXg7oHV"
      }
    },
    {
      "cell_type": "code",
      "source": [
        "# verificando a quantidade de dias que o usuário ficou ativo e atribuindo uma nova coluna ao df\n",
        "\n",
        "total = data_clean['deleted_at'] - data_clean['created_at']\n",
        "data_clean['total'] = total"
      ],
      "metadata": {
        "id": "6_ZJQx1VVaSm"
      },
      "execution_count": 359,
      "outputs": []
    },
    {
      "cell_type": "code",
      "source": [
        "# convertendo para numerico\n",
        "\n",
        "data_clean['total'] = data_clean.total.apply(lambda x: x.days)"
      ],
      "metadata": {
        "id": "CJsmXt6RWXiZ"
      },
      "execution_count": 360,
      "outputs": []
    },
    {
      "cell_type": "code",
      "source": [
        "data_clean.sort_values(by=['created_at'], inplace=True)"
      ],
      "metadata": {
        "id": "fGT5a3arm6K4"
      },
      "execution_count": 361,
      "outputs": []
    },
    {
      "cell_type": "markdown",
      "source": [
        "## **3.4 Conhecendo o dataframe**"
      ],
      "metadata": {
        "id": "PsdKjZmSMaaQ"
      }
    },
    {
      "cell_type": "code",
      "source": [
        "data_clean.head(10)"
      ],
      "metadata": {
        "colab": {
          "base_uri": "https://localhost:8080/",
          "height": 948
        },
        "id": "Sj0TV1v7MS3U",
        "outputId": "c8c05653-95da-445b-bef0-e73c19428bac"
      },
      "execution_count": 362,
      "outputs": [
        {
          "output_type": "execute_result",
          "data": {
            "text/html": [
              "\n",
              "  <div id=\"df-f44e63d1-2edb-4c69-babe-d2c82be2496a\">\n",
              "    <div class=\"colab-df-container\">\n",
              "      <div>\n",
              "<style scoped>\n",
              "    .dataframe tbody tr th:only-of-type {\n",
              "        vertical-align: middle;\n",
              "    }\n",
              "\n",
              "    .dataframe tbody tr th {\n",
              "        vertical-align: top;\n",
              "    }\n",
              "\n",
              "    .dataframe thead th {\n",
              "        text-align: right;\n",
              "    }\n",
              "</style>\n",
              "<table border=\"1\" class=\"dataframe\">\n",
              "  <thead>\n",
              "    <tr style=\"text-align: right;\">\n",
              "      <th></th>\n",
              "      <th>id</th>\n",
              "      <th>created_at</th>\n",
              "      <th>updated_at</th>\n",
              "      <th>deleted_at</th>\n",
              "      <th>birth_date</th>\n",
              "      <th>status</th>\n",
              "      <th>version</th>\n",
              "      <th>city</th>\n",
              "      <th>state</th>\n",
              "      <th>neighborhood</th>\n",
              "      <th>last_date_purchase</th>\n",
              "      <th>average_ticket</th>\n",
              "      <th>items_quantity</th>\n",
              "      <th>all_revenue</th>\n",
              "      <th>all_orders</th>\n",
              "      <th>recency</th>\n",
              "      <th>marketing_source</th>\n",
              "      <th>total</th>\n",
              "    </tr>\n",
              "  </thead>\n",
              "  <tbody>\n",
              "    <tr>\n",
              "      <th>7189</th>\n",
              "      <td>b5616708-3730-4f8e-8ea2-27f09e85693b</td>\n",
              "      <td>2016-02-19 10:00:48</td>\n",
              "      <td>2020-12-25 10:09:12.000000</td>\n",
              "      <td>2020-12-25 10:09:12</td>\n",
              "      <td>1967-11-19</td>\n",
              "      <td>canceled</td>\n",
              "      <td>4.-10.11</td>\n",
              "      <td>da Paz de Araújo</td>\n",
              "      <td>PE</td>\n",
              "      <td>Nossa Senhora Aparecida</td>\n",
              "      <td>2020-07-02 18:06:23.000000</td>\n",
              "      <td>216.110978</td>\n",
              "      <td>6</td>\n",
              "      <td>2161.109779</td>\n",
              "      <td>10</td>\n",
              "      <td>230</td>\n",
              "      <td>paid_search</td>\n",
              "      <td>1771.0</td>\n",
              "    </tr>\n",
              "    <tr>\n",
              "      <th>510</th>\n",
              "      <td>22eb2358-3377-4205-8fd8-032112af9e14</td>\n",
              "      <td>2016-02-19 15:23:39</td>\n",
              "      <td>2021-01-05 11:23:50.825168</td>\n",
              "      <td>NaT</td>\n",
              "      <td>1979-10-21</td>\n",
              "      <td>active</td>\n",
              "      <td>4.21.7</td>\n",
              "      <td>Moura do Campo</td>\n",
              "      <td>BA</td>\n",
              "      <td>Santa Monica</td>\n",
              "      <td>2021-01-05 11:23:50.825168</td>\n",
              "      <td>219.380656</td>\n",
              "      <td>11</td>\n",
              "      <td>2413.187215</td>\n",
              "      <td>11</td>\n",
              "      <td>44</td>\n",
              "      <td>paid_search</td>\n",
              "      <td>NaN</td>\n",
              "    </tr>\n",
              "    <tr>\n",
              "      <th>4360</th>\n",
              "      <td>bf0a8d31-a34d-48dc-8e70-972a3bfeb491</td>\n",
              "      <td>2016-02-19 15:41:33</td>\n",
              "      <td>2020-05-24 20:21:07.000000</td>\n",
              "      <td>2020-05-24 20:21:07</td>\n",
              "      <td>1973-01-11</td>\n",
              "      <td>canceled</td>\n",
              "      <td>4.31.8</td>\n",
              "      <td>Ribeiro</td>\n",
              "      <td>BA</td>\n",
              "      <td>Vila Oeste</td>\n",
              "      <td>2018-08-22 09:56:10.000000</td>\n",
              "      <td>202.926240</td>\n",
              "      <td>7</td>\n",
              "      <td>608.778719</td>\n",
              "      <td>3</td>\n",
              "      <td>911</td>\n",
              "      <td>organic_search</td>\n",
              "      <td>1556.0</td>\n",
              "    </tr>\n",
              "    <tr>\n",
              "      <th>1782</th>\n",
              "      <td>4764f142-330d-4c47-a880-8df7220ef5ce</td>\n",
              "      <td>2016-02-19 16:36:59</td>\n",
              "      <td>2021-01-20 11:23:51.151140</td>\n",
              "      <td>NaT</td>\n",
              "      <td>1970-08-07</td>\n",
              "      <td>active</td>\n",
              "      <td>4.30.4</td>\n",
              "      <td>Martins</td>\n",
              "      <td>PA</td>\n",
              "      <td>Brasil Industrial</td>\n",
              "      <td>2021-01-20 11:23:51.151140</td>\n",
              "      <td>183.678011</td>\n",
              "      <td>6</td>\n",
              "      <td>2020.458119</td>\n",
              "      <td>11</td>\n",
              "      <td>29</td>\n",
              "      <td>paid_search</td>\n",
              "      <td>NaN</td>\n",
              "    </tr>\n",
              "    <tr>\n",
              "      <th>7986</th>\n",
              "      <td>bf6fb9c1-340a-4e34-b14a-ee53ddbc7bbf</td>\n",
              "      <td>2016-02-19 16:37:27</td>\n",
              "      <td>2020-02-04 11:05:01.000000</td>\n",
              "      <td>2020-02-04 11:05:01</td>\n",
              "      <td>1993-07-29</td>\n",
              "      <td>canceled</td>\n",
              "      <td>3.-2.11</td>\n",
              "      <td>Gonçalves Verde</td>\n",
              "      <td>PA</td>\n",
              "      <td>São Marcos</td>\n",
              "      <td>2018-02-08 18:15:17.000000</td>\n",
              "      <td>184.122657</td>\n",
              "      <td>3</td>\n",
              "      <td>2025.349226</td>\n",
              "      <td>11</td>\n",
              "      <td>1105</td>\n",
              "      <td>direct</td>\n",
              "      <td>1445.0</td>\n",
              "    </tr>\n",
              "    <tr>\n",
              "      <th>9449</th>\n",
              "      <td>9f4db024-8736-4f7b-97a4-cd661faa80de</td>\n",
              "      <td>2016-02-19 22:15:27</td>\n",
              "      <td>2021-01-26 11:23:53.098231</td>\n",
              "      <td>NaT</td>\n",
              "      <td>1946-12-25</td>\n",
              "      <td>active</td>\n",
              "      <td>3.27.8</td>\n",
              "      <td>da Cunha</td>\n",
              "      <td>AC</td>\n",
              "      <td>Embaúbas</td>\n",
              "      <td>2021-01-26 11:23:53.098231</td>\n",
              "      <td>201.041290</td>\n",
              "      <td>7</td>\n",
              "      <td>2211.454192</td>\n",
              "      <td>11</td>\n",
              "      <td>23</td>\n",
              "      <td>organic_search</td>\n",
              "      <td>NaN</td>\n",
              "    </tr>\n",
              "    <tr>\n",
              "      <th>5743</th>\n",
              "      <td>41e13249-1bf4-4c31-9380-0347248324c6</td>\n",
              "      <td>2016-02-20 02:45:34</td>\n",
              "      <td>2021-01-20 11:23:52.168962</td>\n",
              "      <td>NaT</td>\n",
              "      <td>1971-10-21</td>\n",
              "      <td>active</td>\n",
              "      <td>3.27.10</td>\n",
              "      <td>Teixeira de Castro</td>\n",
              "      <td>MA</td>\n",
              "      <td>Virgínia</td>\n",
              "      <td>2021-01-20 11:23:52.168962</td>\n",
              "      <td>202.127978</td>\n",
              "      <td>11</td>\n",
              "      <td>2223.407754</td>\n",
              "      <td>11</td>\n",
              "      <td>29</td>\n",
              "      <td>crm</td>\n",
              "      <td>NaN</td>\n",
              "    </tr>\n",
              "    <tr>\n",
              "      <th>3942</th>\n",
              "      <td>02009916-af42-47c9-a2ea-f05d3a53873b</td>\n",
              "      <td>2016-02-20 09:14:06</td>\n",
              "      <td>2017-08-03 17:16:19.000000</td>\n",
              "      <td>2017-08-03 17:16:19</td>\n",
              "      <td>1976-02-06</td>\n",
              "      <td>canceled</td>\n",
              "      <td>2.2.7</td>\n",
              "      <td>Santos</td>\n",
              "      <td>RN</td>\n",
              "      <td>Vila Boa Vista</td>\n",
              "      <td>2016-12-05 00:52:12.000000</td>\n",
              "      <td>209.687109</td>\n",
              "      <td>11</td>\n",
              "      <td>1048.435545</td>\n",
              "      <td>5</td>\n",
              "      <td>1536</td>\n",
              "      <td>organic_search</td>\n",
              "      <td>530.0</td>\n",
              "    </tr>\n",
              "    <tr>\n",
              "      <th>4972</th>\n",
              "      <td>c0931a2f-06ca-4810-9308-735abf2f5a82</td>\n",
              "      <td>2016-02-21 04:26:38</td>\n",
              "      <td>2021-01-14 11:23:51.968384</td>\n",
              "      <td>NaT</td>\n",
              "      <td>1985-06-18</td>\n",
              "      <td>active</td>\n",
              "      <td>4.3.11</td>\n",
              "      <td>Melo</td>\n",
              "      <td>AL</td>\n",
              "      <td>João Alfredo</td>\n",
              "      <td>2021-01-14 11:23:51.968384</td>\n",
              "      <td>212.447670</td>\n",
              "      <td>6</td>\n",
              "      <td>2336.924371</td>\n",
              "      <td>11</td>\n",
              "      <td>35</td>\n",
              "      <td>organic_search</td>\n",
              "      <td>NaN</td>\n",
              "    </tr>\n",
              "    <tr>\n",
              "      <th>4377</th>\n",
              "      <td>c365a5ab-029d-4e3b-961b-15455e6b67d2</td>\n",
              "      <td>2016-02-21 05:14:38</td>\n",
              "      <td>2021-01-19 11:23:51.814666</td>\n",
              "      <td>NaT</td>\n",
              "      <td>1976-05-02</td>\n",
              "      <td>active</td>\n",
              "      <td>4.27.3</td>\n",
              "      <td>da Conceição de da Cunha</td>\n",
              "      <td>AC</td>\n",
              "      <td>Distrito Industrial Do Jatoba</td>\n",
              "      <td>2021-01-19 11:23:51.814666</td>\n",
              "      <td>219.369629</td>\n",
              "      <td>8</td>\n",
              "      <td>2413.065920</td>\n",
              "      <td>11</td>\n",
              "      <td>30</td>\n",
              "      <td>organic_search</td>\n",
              "      <td>NaN</td>\n",
              "    </tr>\n",
              "  </tbody>\n",
              "</table>\n",
              "</div>\n",
              "      <button class=\"colab-df-convert\" onclick=\"convertToInteractive('df-f44e63d1-2edb-4c69-babe-d2c82be2496a')\"\n",
              "              title=\"Convert this dataframe to an interactive table.\"\n",
              "              style=\"display:none;\">\n",
              "        \n",
              "  <svg xmlns=\"http://www.w3.org/2000/svg\" height=\"24px\"viewBox=\"0 0 24 24\"\n",
              "       width=\"24px\">\n",
              "    <path d=\"M0 0h24v24H0V0z\" fill=\"none\"/>\n",
              "    <path d=\"M18.56 5.44l.94 2.06.94-2.06 2.06-.94-2.06-.94-.94-2.06-.94 2.06-2.06.94zm-11 1L8.5 8.5l.94-2.06 2.06-.94-2.06-.94L8.5 2.5l-.94 2.06-2.06.94zm10 10l.94 2.06.94-2.06 2.06-.94-2.06-.94-.94-2.06-.94 2.06-2.06.94z\"/><path d=\"M17.41 7.96l-1.37-1.37c-.4-.4-.92-.59-1.43-.59-.52 0-1.04.2-1.43.59L10.3 9.45l-7.72 7.72c-.78.78-.78 2.05 0 2.83L4 21.41c.39.39.9.59 1.41.59.51 0 1.02-.2 1.41-.59l7.78-7.78 2.81-2.81c.8-.78.8-2.07 0-2.86zM5.41 20L4 18.59l7.72-7.72 1.47 1.35L5.41 20z\"/>\n",
              "  </svg>\n",
              "      </button>\n",
              "      \n",
              "  <style>\n",
              "    .colab-df-container {\n",
              "      display:flex;\n",
              "      flex-wrap:wrap;\n",
              "      gap: 12px;\n",
              "    }\n",
              "\n",
              "    .colab-df-convert {\n",
              "      background-color: #E8F0FE;\n",
              "      border: none;\n",
              "      border-radius: 50%;\n",
              "      cursor: pointer;\n",
              "      display: none;\n",
              "      fill: #1967D2;\n",
              "      height: 32px;\n",
              "      padding: 0 0 0 0;\n",
              "      width: 32px;\n",
              "    }\n",
              "\n",
              "    .colab-df-convert:hover {\n",
              "      background-color: #E2EBFA;\n",
              "      box-shadow: 0px 1px 2px rgba(60, 64, 67, 0.3), 0px 1px 3px 1px rgba(60, 64, 67, 0.15);\n",
              "      fill: #174EA6;\n",
              "    }\n",
              "\n",
              "    [theme=dark] .colab-df-convert {\n",
              "      background-color: #3B4455;\n",
              "      fill: #D2E3FC;\n",
              "    }\n",
              "\n",
              "    [theme=dark] .colab-df-convert:hover {\n",
              "      background-color: #434B5C;\n",
              "      box-shadow: 0px 1px 3px 1px rgba(0, 0, 0, 0.15);\n",
              "      filter: drop-shadow(0px 1px 2px rgba(0, 0, 0, 0.3));\n",
              "      fill: #FFFFFF;\n",
              "    }\n",
              "  </style>\n",
              "\n",
              "      <script>\n",
              "        const buttonEl =\n",
              "          document.querySelector('#df-f44e63d1-2edb-4c69-babe-d2c82be2496a button.colab-df-convert');\n",
              "        buttonEl.style.display =\n",
              "          google.colab.kernel.accessAllowed ? 'block' : 'none';\n",
              "\n",
              "        async function convertToInteractive(key) {\n",
              "          const element = document.querySelector('#df-f44e63d1-2edb-4c69-babe-d2c82be2496a');\n",
              "          const dataTable =\n",
              "            await google.colab.kernel.invokeFunction('convertToInteractive',\n",
              "                                                     [key], {});\n",
              "          if (!dataTable) return;\n",
              "\n",
              "          const docLinkHtml = 'Like what you see? Visit the ' +\n",
              "            '<a target=\"_blank\" href=https://colab.research.google.com/notebooks/data_table.ipynb>data table notebook</a>'\n",
              "            + ' to learn more about interactive tables.';\n",
              "          element.innerHTML = '';\n",
              "          dataTable['output_type'] = 'display_data';\n",
              "          await google.colab.output.renderOutput(dataTable, element);\n",
              "          const docLink = document.createElement('div');\n",
              "          docLink.innerHTML = docLinkHtml;\n",
              "          element.appendChild(docLink);\n",
              "        }\n",
              "      </script>\n",
              "    </div>\n",
              "  </div>\n",
              "  "
            ],
            "text/plain": [
              "                                        id  ...   total\n",
              "7189  b5616708-3730-4f8e-8ea2-27f09e85693b  ...  1771.0\n",
              "510   22eb2358-3377-4205-8fd8-032112af9e14  ...     NaN\n",
              "4360  bf0a8d31-a34d-48dc-8e70-972a3bfeb491  ...  1556.0\n",
              "1782  4764f142-330d-4c47-a880-8df7220ef5ce  ...     NaN\n",
              "7986  bf6fb9c1-340a-4e34-b14a-ee53ddbc7bbf  ...  1445.0\n",
              "9449  9f4db024-8736-4f7b-97a4-cd661faa80de  ...     NaN\n",
              "5743  41e13249-1bf4-4c31-9380-0347248324c6  ...     NaN\n",
              "3942  02009916-af42-47c9-a2ea-f05d3a53873b  ...   530.0\n",
              "4972  c0931a2f-06ca-4810-9308-735abf2f5a82  ...     NaN\n",
              "4377  c365a5ab-029d-4e3b-961b-15455e6b67d2  ...     NaN\n",
              "\n",
              "[10 rows x 18 columns]"
            ]
          },
          "metadata": {},
          "execution_count": 362
        }
      ]
    },
    {
      "cell_type": "markdown",
      "source": [
        "# **4 Análise exploratória**\n",
        "\n",
        "Nesta etapa será realizada a análise exploratório de dados (tabelas, gráficos, BI), dentre outras técnicas disponíveis.\n"
      ],
      "metadata": {
        "id": "PEtJlbbb2MMW"
      }
    },
    {
      "cell_type": "markdown",
      "source": [
        "Para esta análise serão vistos os perfis de clientes ativos e os perfis dos clientes que cancelaram para então realizar o levantamento de hipóteses. "
      ],
      "metadata": {
        "id": "zNQEvl-k3XVt"
      }
    },
    {
      "cell_type": "code",
      "source": [
        "data_clean['status'].value_counts()"
      ],
      "metadata": {
        "colab": {
          "base_uri": "https://localhost:8080/"
        },
        "id": "jeT1oZV_6WBt",
        "outputId": "913445ea-49c4-4cc9-b414-a2ef9c1114c7"
      },
      "execution_count": 363,
      "outputs": [
        {
          "output_type": "execute_result",
          "data": {
            "text/plain": [
              "active      8524\n",
              "paused       971\n",
              "canceled     505\n",
              "Name: status, dtype: int64"
            ]
          },
          "metadata": {},
          "execution_count": 363
        }
      ]
    },
    {
      "cell_type": "markdown",
      "source": [
        "## **4.1 Perfil dos clientes com status cancelado**"
      ],
      "metadata": {
        "id": "KeEpI7N_NPM0"
      }
    },
    {
      "cell_type": "markdown",
      "source": [
        "Dados estatísticos em geral"
      ],
      "metadata": {
        "id": "6nVyDgIrNXvX"
      }
    },
    {
      "cell_type": "code",
      "source": [
        "cancelados = data_clean.loc[data_clean['status'] == 'canceled']\n",
        "cancelados.describe()"
      ],
      "metadata": {
        "colab": {
          "base_uri": "https://localhost:8080/",
          "height": 300
        },
        "id": "jT4-DnRK6o1j",
        "outputId": "ff666e7c-befc-4664-9756-c894a2058f2a"
      },
      "execution_count": 364,
      "outputs": [
        {
          "output_type": "execute_result",
          "data": {
            "text/html": [
              "\n",
              "  <div id=\"df-7952e7af-a02d-45f5-b8ae-d131ab8f35f0\">\n",
              "    <div class=\"colab-df-container\">\n",
              "      <div>\n",
              "<style scoped>\n",
              "    .dataframe tbody tr th:only-of-type {\n",
              "        vertical-align: middle;\n",
              "    }\n",
              "\n",
              "    .dataframe tbody tr th {\n",
              "        vertical-align: top;\n",
              "    }\n",
              "\n",
              "    .dataframe thead th {\n",
              "        text-align: right;\n",
              "    }\n",
              "</style>\n",
              "<table border=\"1\" class=\"dataframe\">\n",
              "  <thead>\n",
              "    <tr style=\"text-align: right;\">\n",
              "      <th></th>\n",
              "      <th>average_ticket</th>\n",
              "      <th>items_quantity</th>\n",
              "      <th>all_revenue</th>\n",
              "      <th>all_orders</th>\n",
              "      <th>recency</th>\n",
              "      <th>total</th>\n",
              "    </tr>\n",
              "  </thead>\n",
              "  <tbody>\n",
              "    <tr>\n",
              "      <th>count</th>\n",
              "      <td>505.000000</td>\n",
              "      <td>505.000000</td>\n",
              "      <td>505.000000</td>\n",
              "      <td>505.000000</td>\n",
              "      <td>505.000000</td>\n",
              "      <td>505.000000</td>\n",
              "    </tr>\n",
              "    <tr>\n",
              "      <th>mean</th>\n",
              "      <td>217.438501</td>\n",
              "      <td>8.647525</td>\n",
              "      <td>1059.405752</td>\n",
              "      <td>4.857426</td>\n",
              "      <td>680.970297</td>\n",
              "      <td>471.700990</td>\n",
              "    </tr>\n",
              "    <tr>\n",
              "      <th>std</th>\n",
              "      <td>22.503191</td>\n",
              "      <td>2.951748</td>\n",
              "      <td>774.373741</td>\n",
              "      <td>3.483446</td>\n",
              "      <td>463.006656</td>\n",
              "      <td>423.662606</td>\n",
              "    </tr>\n",
              "    <tr>\n",
              "      <th>min</th>\n",
              "      <td>151.804161</td>\n",
              "      <td>1.000000</td>\n",
              "      <td>0.000000</td>\n",
              "      <td>0.000000</td>\n",
              "      <td>1.000000</td>\n",
              "      <td>0.000000</td>\n",
              "    </tr>\n",
              "    <tr>\n",
              "      <th>25%</th>\n",
              "      <td>201.934997</td>\n",
              "      <td>7.000000</td>\n",
              "      <td>403.113961</td>\n",
              "      <td>2.000000</td>\n",
              "      <td>278.000000</td>\n",
              "      <td>133.000000</td>\n",
              "    </tr>\n",
              "    <tr>\n",
              "      <th>50%</th>\n",
              "      <td>217.998175</td>\n",
              "      <td>9.000000</td>\n",
              "      <td>984.359042</td>\n",
              "      <td>5.000000</td>\n",
              "      <td>600.000000</td>\n",
              "      <td>322.000000</td>\n",
              "    </tr>\n",
              "    <tr>\n",
              "      <th>75%</th>\n",
              "      <td>232.135380</td>\n",
              "      <td>11.000000</td>\n",
              "      <td>1669.802614</td>\n",
              "      <td>8.000000</td>\n",
              "      <td>1031.000000</td>\n",
              "      <td>750.000000</td>\n",
              "    </tr>\n",
              "    <tr>\n",
              "      <th>max</th>\n",
              "      <td>278.300436</td>\n",
              "      <td>18.000000</td>\n",
              "      <td>2873.700656</td>\n",
              "      <td>11.000000</td>\n",
              "      <td>1820.000000</td>\n",
              "      <td>1771.000000</td>\n",
              "    </tr>\n",
              "  </tbody>\n",
              "</table>\n",
              "</div>\n",
              "      <button class=\"colab-df-convert\" onclick=\"convertToInteractive('df-7952e7af-a02d-45f5-b8ae-d131ab8f35f0')\"\n",
              "              title=\"Convert this dataframe to an interactive table.\"\n",
              "              style=\"display:none;\">\n",
              "        \n",
              "  <svg xmlns=\"http://www.w3.org/2000/svg\" height=\"24px\"viewBox=\"0 0 24 24\"\n",
              "       width=\"24px\">\n",
              "    <path d=\"M0 0h24v24H0V0z\" fill=\"none\"/>\n",
              "    <path d=\"M18.56 5.44l.94 2.06.94-2.06 2.06-.94-2.06-.94-.94-2.06-.94 2.06-2.06.94zm-11 1L8.5 8.5l.94-2.06 2.06-.94-2.06-.94L8.5 2.5l-.94 2.06-2.06.94zm10 10l.94 2.06.94-2.06 2.06-.94-2.06-.94-.94-2.06-.94 2.06-2.06.94z\"/><path d=\"M17.41 7.96l-1.37-1.37c-.4-.4-.92-.59-1.43-.59-.52 0-1.04.2-1.43.59L10.3 9.45l-7.72 7.72c-.78.78-.78 2.05 0 2.83L4 21.41c.39.39.9.59 1.41.59.51 0 1.02-.2 1.41-.59l7.78-7.78 2.81-2.81c.8-.78.8-2.07 0-2.86zM5.41 20L4 18.59l7.72-7.72 1.47 1.35L5.41 20z\"/>\n",
              "  </svg>\n",
              "      </button>\n",
              "      \n",
              "  <style>\n",
              "    .colab-df-container {\n",
              "      display:flex;\n",
              "      flex-wrap:wrap;\n",
              "      gap: 12px;\n",
              "    }\n",
              "\n",
              "    .colab-df-convert {\n",
              "      background-color: #E8F0FE;\n",
              "      border: none;\n",
              "      border-radius: 50%;\n",
              "      cursor: pointer;\n",
              "      display: none;\n",
              "      fill: #1967D2;\n",
              "      height: 32px;\n",
              "      padding: 0 0 0 0;\n",
              "      width: 32px;\n",
              "    }\n",
              "\n",
              "    .colab-df-convert:hover {\n",
              "      background-color: #E2EBFA;\n",
              "      box-shadow: 0px 1px 2px rgba(60, 64, 67, 0.3), 0px 1px 3px 1px rgba(60, 64, 67, 0.15);\n",
              "      fill: #174EA6;\n",
              "    }\n",
              "\n",
              "    [theme=dark] .colab-df-convert {\n",
              "      background-color: #3B4455;\n",
              "      fill: #D2E3FC;\n",
              "    }\n",
              "\n",
              "    [theme=dark] .colab-df-convert:hover {\n",
              "      background-color: #434B5C;\n",
              "      box-shadow: 0px 1px 3px 1px rgba(0, 0, 0, 0.15);\n",
              "      filter: drop-shadow(0px 1px 2px rgba(0, 0, 0, 0.3));\n",
              "      fill: #FFFFFF;\n",
              "    }\n",
              "  </style>\n",
              "\n",
              "      <script>\n",
              "        const buttonEl =\n",
              "          document.querySelector('#df-7952e7af-a02d-45f5-b8ae-d131ab8f35f0 button.colab-df-convert');\n",
              "        buttonEl.style.display =\n",
              "          google.colab.kernel.accessAllowed ? 'block' : 'none';\n",
              "\n",
              "        async function convertToInteractive(key) {\n",
              "          const element = document.querySelector('#df-7952e7af-a02d-45f5-b8ae-d131ab8f35f0');\n",
              "          const dataTable =\n",
              "            await google.colab.kernel.invokeFunction('convertToInteractive',\n",
              "                                                     [key], {});\n",
              "          if (!dataTable) return;\n",
              "\n",
              "          const docLinkHtml = 'Like what you see? Visit the ' +\n",
              "            '<a target=\"_blank\" href=https://colab.research.google.com/notebooks/data_table.ipynb>data table notebook</a>'\n",
              "            + ' to learn more about interactive tables.';\n",
              "          element.innerHTML = '';\n",
              "          dataTable['output_type'] = 'display_data';\n",
              "          await google.colab.output.renderOutput(dataTable, element);\n",
              "          const docLink = document.createElement('div');\n",
              "          docLink.innerHTML = docLinkHtml;\n",
              "          element.appendChild(docLink);\n",
              "        }\n",
              "      </script>\n",
              "    </div>\n",
              "  </div>\n",
              "  "
            ],
            "text/plain": [
              "       average_ticket  items_quantity  ...      recency        total\n",
              "count      505.000000      505.000000  ...   505.000000   505.000000\n",
              "mean       217.438501        8.647525  ...   680.970297   471.700990\n",
              "std         22.503191        2.951748  ...   463.006656   423.662606\n",
              "min        151.804161        1.000000  ...     1.000000     0.000000\n",
              "25%        201.934997        7.000000  ...   278.000000   133.000000\n",
              "50%        217.998175        9.000000  ...   600.000000   322.000000\n",
              "75%        232.135380       11.000000  ...  1031.000000   750.000000\n",
              "max        278.300436       18.000000  ...  1820.000000  1771.000000\n",
              "\n",
              "[8 rows x 6 columns]"
            ]
          },
          "metadata": {},
          "execution_count": 364
        }
      ]
    },
    {
      "cell_type": "code",
      "source": [
        "ativos = data_clean.loc[data_clean['status'] == 'active']\n",
        "ativos.describe()"
      ],
      "metadata": {
        "colab": {
          "base_uri": "https://localhost:8080/",
          "height": 300
        },
        "id": "KuMJav_Fzm7C",
        "outputId": "ad27282c-3ce4-4419-d1d7-dd1341286064"
      },
      "execution_count": 366,
      "outputs": [
        {
          "output_type": "execute_result",
          "data": {
            "text/html": [
              "\n",
              "  <div id=\"df-ef3caa53-dd9d-427c-84a8-95c8799553d6\">\n",
              "    <div class=\"colab-df-container\">\n",
              "      <div>\n",
              "<style scoped>\n",
              "    .dataframe tbody tr th:only-of-type {\n",
              "        vertical-align: middle;\n",
              "    }\n",
              "\n",
              "    .dataframe tbody tr th {\n",
              "        vertical-align: top;\n",
              "    }\n",
              "\n",
              "    .dataframe thead th {\n",
              "        text-align: right;\n",
              "    }\n",
              "</style>\n",
              "<table border=\"1\" class=\"dataframe\">\n",
              "  <thead>\n",
              "    <tr style=\"text-align: right;\">\n",
              "      <th></th>\n",
              "      <th>average_ticket</th>\n",
              "      <th>items_quantity</th>\n",
              "      <th>all_revenue</th>\n",
              "      <th>all_orders</th>\n",
              "      <th>recency</th>\n",
              "      <th>total</th>\n",
              "    </tr>\n",
              "  </thead>\n",
              "  <tbody>\n",
              "    <tr>\n",
              "      <th>count</th>\n",
              "      <td>8524.000000</td>\n",
              "      <td>8524.000000</td>\n",
              "      <td>8524.000000</td>\n",
              "      <td>8524.000000</td>\n",
              "      <td>8524.000000</td>\n",
              "      <td>0.0</td>\n",
              "    </tr>\n",
              "    <tr>\n",
              "      <th>mean</th>\n",
              "      <td>216.732335</td>\n",
              "      <td>8.477710</td>\n",
              "      <td>1180.212943</td>\n",
              "      <td>5.444510</td>\n",
              "      <td>34.532145</td>\n",
              "      <td>NaN</td>\n",
              "    </tr>\n",
              "    <tr>\n",
              "      <th>std</th>\n",
              "      <td>22.788866</td>\n",
              "      <td>3.025504</td>\n",
              "      <td>761.861660</td>\n",
              "      <td>3.453667</td>\n",
              "      <td>6.070320</td>\n",
              "      <td>NaN</td>\n",
              "    </tr>\n",
              "    <tr>\n",
              "      <th>min</th>\n",
              "      <td>131.378672</td>\n",
              "      <td>1.000000</td>\n",
              "      <td>0.000000</td>\n",
              "      <td>0.000000</td>\n",
              "      <td>11.000000</td>\n",
              "      <td>NaN</td>\n",
              "    </tr>\n",
              "    <tr>\n",
              "      <th>25%</th>\n",
              "      <td>201.178298</td>\n",
              "      <td>6.000000</td>\n",
              "      <td>496.417422</td>\n",
              "      <td>2.000000</td>\n",
              "      <td>30.000000</td>\n",
              "      <td>NaN</td>\n",
              "    </tr>\n",
              "    <tr>\n",
              "      <th>50%</th>\n",
              "      <td>216.700538</td>\n",
              "      <td>8.000000</td>\n",
              "      <td>1182.817858</td>\n",
              "      <td>6.000000</td>\n",
              "      <td>35.000000</td>\n",
              "      <td>NaN</td>\n",
              "    </tr>\n",
              "    <tr>\n",
              "      <th>75%</th>\n",
              "      <td>232.444647</td>\n",
              "      <td>11.000000</td>\n",
              "      <td>1801.683082</td>\n",
              "      <td>8.000000</td>\n",
              "      <td>39.000000</td>\n",
              "      <td>NaN</td>\n",
              "    </tr>\n",
              "    <tr>\n",
              "      <th>max</th>\n",
              "      <td>303.386848</td>\n",
              "      <td>19.000000</td>\n",
              "      <td>3225.654163</td>\n",
              "      <td>11.000000</td>\n",
              "      <td>56.000000</td>\n",
              "      <td>NaN</td>\n",
              "    </tr>\n",
              "  </tbody>\n",
              "</table>\n",
              "</div>\n",
              "      <button class=\"colab-df-convert\" onclick=\"convertToInteractive('df-ef3caa53-dd9d-427c-84a8-95c8799553d6')\"\n",
              "              title=\"Convert this dataframe to an interactive table.\"\n",
              "              style=\"display:none;\">\n",
              "        \n",
              "  <svg xmlns=\"http://www.w3.org/2000/svg\" height=\"24px\"viewBox=\"0 0 24 24\"\n",
              "       width=\"24px\">\n",
              "    <path d=\"M0 0h24v24H0V0z\" fill=\"none\"/>\n",
              "    <path d=\"M18.56 5.44l.94 2.06.94-2.06 2.06-.94-2.06-.94-.94-2.06-.94 2.06-2.06.94zm-11 1L8.5 8.5l.94-2.06 2.06-.94-2.06-.94L8.5 2.5l-.94 2.06-2.06.94zm10 10l.94 2.06.94-2.06 2.06-.94-2.06-.94-.94-2.06-.94 2.06-2.06.94z\"/><path d=\"M17.41 7.96l-1.37-1.37c-.4-.4-.92-.59-1.43-.59-.52 0-1.04.2-1.43.59L10.3 9.45l-7.72 7.72c-.78.78-.78 2.05 0 2.83L4 21.41c.39.39.9.59 1.41.59.51 0 1.02-.2 1.41-.59l7.78-7.78 2.81-2.81c.8-.78.8-2.07 0-2.86zM5.41 20L4 18.59l7.72-7.72 1.47 1.35L5.41 20z\"/>\n",
              "  </svg>\n",
              "      </button>\n",
              "      \n",
              "  <style>\n",
              "    .colab-df-container {\n",
              "      display:flex;\n",
              "      flex-wrap:wrap;\n",
              "      gap: 12px;\n",
              "    }\n",
              "\n",
              "    .colab-df-convert {\n",
              "      background-color: #E8F0FE;\n",
              "      border: none;\n",
              "      border-radius: 50%;\n",
              "      cursor: pointer;\n",
              "      display: none;\n",
              "      fill: #1967D2;\n",
              "      height: 32px;\n",
              "      padding: 0 0 0 0;\n",
              "      width: 32px;\n",
              "    }\n",
              "\n",
              "    .colab-df-convert:hover {\n",
              "      background-color: #E2EBFA;\n",
              "      box-shadow: 0px 1px 2px rgba(60, 64, 67, 0.3), 0px 1px 3px 1px rgba(60, 64, 67, 0.15);\n",
              "      fill: #174EA6;\n",
              "    }\n",
              "\n",
              "    [theme=dark] .colab-df-convert {\n",
              "      background-color: #3B4455;\n",
              "      fill: #D2E3FC;\n",
              "    }\n",
              "\n",
              "    [theme=dark] .colab-df-convert:hover {\n",
              "      background-color: #434B5C;\n",
              "      box-shadow: 0px 1px 3px 1px rgba(0, 0, 0, 0.15);\n",
              "      filter: drop-shadow(0px 1px 2px rgba(0, 0, 0, 0.3));\n",
              "      fill: #FFFFFF;\n",
              "    }\n",
              "  </style>\n",
              "\n",
              "      <script>\n",
              "        const buttonEl =\n",
              "          document.querySelector('#df-ef3caa53-dd9d-427c-84a8-95c8799553d6 button.colab-df-convert');\n",
              "        buttonEl.style.display =\n",
              "          google.colab.kernel.accessAllowed ? 'block' : 'none';\n",
              "\n",
              "        async function convertToInteractive(key) {\n",
              "          const element = document.querySelector('#df-ef3caa53-dd9d-427c-84a8-95c8799553d6');\n",
              "          const dataTable =\n",
              "            await google.colab.kernel.invokeFunction('convertToInteractive',\n",
              "                                                     [key], {});\n",
              "          if (!dataTable) return;\n",
              "\n",
              "          const docLinkHtml = 'Like what you see? Visit the ' +\n",
              "            '<a target=\"_blank\" href=https://colab.research.google.com/notebooks/data_table.ipynb>data table notebook</a>'\n",
              "            + ' to learn more about interactive tables.';\n",
              "          element.innerHTML = '';\n",
              "          dataTable['output_type'] = 'display_data';\n",
              "          await google.colab.output.renderOutput(dataTable, element);\n",
              "          const docLink = document.createElement('div');\n",
              "          docLink.innerHTML = docLinkHtml;\n",
              "          element.appendChild(docLink);\n",
              "        }\n",
              "      </script>\n",
              "    </div>\n",
              "  </div>\n",
              "  "
            ],
            "text/plain": [
              "       average_ticket  items_quantity  ...      recency  total\n",
              "count     8524.000000     8524.000000  ...  8524.000000    0.0\n",
              "mean       216.732335        8.477710  ...    34.532145    NaN\n",
              "std         22.788866        3.025504  ...     6.070320    NaN\n",
              "min        131.378672        1.000000  ...    11.000000    NaN\n",
              "25%        201.178298        6.000000  ...    30.000000    NaN\n",
              "50%        216.700538        8.000000  ...    35.000000    NaN\n",
              "75%        232.444647       11.000000  ...    39.000000    NaN\n",
              "max        303.386848       19.000000  ...    56.000000    NaN\n",
              "\n",
              "[8 rows x 6 columns]"
            ]
          },
          "metadata": {},
          "execution_count": 366
        }
      ]
    },
    {
      "cell_type": "code",
      "source": [
        ""
      ],
      "metadata": {
        "id": "E4G3tqPzgw7E"
      },
      "execution_count": null,
      "outputs": []
    }
  ]
}