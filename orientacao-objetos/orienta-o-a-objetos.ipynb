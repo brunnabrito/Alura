{
 "cells": [
  {
   "cell_type": "markdown",
   "id": "355a7f8e",
   "metadata": {
    "papermill": {
     "duration": 0.009885,
     "end_time": "2021-11-25T20:59:52.224117",
     "exception": false,
     "start_time": "2021-11-25T20:59:52.214232",
     "status": "completed"
    },
    "tags": []
   },
   "source": [
    "## AULA 1 - O problema do paradigma procedural"
   ]
  },
  {
   "cell_type": "code",
   "execution_count": 1,
   "id": "9276e011",
   "metadata": {
    "execution": {
     "iopub.execute_input": "2021-11-25T20:59:52.245687Z",
     "iopub.status.busy": "2021-11-25T20:59:52.244563Z",
     "iopub.status.idle": "2021-11-25T20:59:52.255515Z",
     "shell.execute_reply": "2021-11-25T20:59:52.256086Z"
    },
    "papermill": {
     "duration": 0.02355,
     "end_time": "2021-11-25T20:59:52.256393",
     "exception": false,
     "start_time": "2021-11-25T20:59:52.232843",
     "status": "completed"
    },
    "tags": []
   },
   "outputs": [],
   "source": [
    "numero = 123 \n",
    "titular = \"Brunna\"\n",
    "saldo = 55.0\n",
    "limite = 1000.0\n",
    "\n",
    "conta1 = {\"numero\": 123, \"titular\": \"Brunna\", \"saldo\": 55.0, \"limite\": 1000.0}\n",
    "\n",
    "conta2 = {\"numero\": 321, \"titular\": \"Tiago\", \"saldo\": 100.0, \"limite\": 1000.0}\n",
    "\n",
    "def cria_conta(numero, titular, saldo, limite):\n",
    "    conta = {\"numero\": numero, \"titular\": titular, \"saldo\": saldo, \"limite\": limite}\n",
    "    return conta\n",
    "\n",
    "def depositar(conta, valor):\n",
    "    conta[\"saldo\"] += valor\n",
    "\n",
    "def sacar(conta, valor):\n",
    "    conta[\"saldo\"] -= valor\n",
    "\n",
    "def extrato(conta):\n",
    "    print(f'O saldo é {conta3[\"saldo\"]}')\n",
    "\n",
    "\n",
    "conta3 = cria_conta(555, \"Maria\", 60.0, 500.0)\n"
   ]
  },
  {
   "cell_type": "markdown",
   "id": "f35623ba",
   "metadata": {
    "papermill": {
     "duration": 0.010493,
     "end_time": "2021-11-25T20:59:52.275538",
     "exception": false,
     "start_time": "2021-11-25T20:59:52.265045",
     "status": "completed"
    },
    "tags": []
   },
   "source": [
    "## AULA 02 - Classes e Objetos"
   ]
  },
  {
   "cell_type": "code",
   "execution_count": 2,
   "id": "2fba4cae",
   "metadata": {
    "execution": {
     "iopub.execute_input": "2021-11-25T20:59:52.297489Z",
     "iopub.status.busy": "2021-11-25T20:59:52.296801Z",
     "iopub.status.idle": "2021-11-25T20:59:52.298566Z",
     "shell.execute_reply": "2021-11-25T20:59:52.299142Z"
    },
    "papermill": {
     "duration": 0.015419,
     "end_time": "2021-11-25T20:59:52.299328",
     "exception": false,
     "start_time": "2021-11-25T20:59:52.283909",
     "status": "completed"
    },
    "tags": []
   },
   "outputs": [],
   "source": [
    "class Conta:\n",
    "\n",
    "    def __init__(self, numero, titular, saldo, limite):\n",
    "        self.numero = numero\n",
    "        self.titular = titular\n",
    "        self.saldo = saldo\n",
    "        self.limite = limite\n"
   ]
  },
  {
   "cell_type": "markdown",
   "id": "272da32a",
   "metadata": {
    "papermill": {
     "duration": 0.00835,
     "end_time": "2021-11-25T20:59:52.316561",
     "exception": false,
     "start_time": "2021-11-25T20:59:52.308211",
     "status": "completed"
    },
    "tags": []
   },
   "source": []
  },
  {
   "cell_type": "markdown",
   "id": "e87c1640",
   "metadata": {
    "papermill": {
     "duration": 0.008425,
     "end_time": "2021-11-25T20:59:52.333739",
     "exception": false,
     "start_time": "2021-11-25T20:59:52.325314",
     "status": "completed"
    },
    "tags": []
   },
   "source": [
    "## AULA 03 - Implementando Métodos\n"
   ]
  },
  {
   "cell_type": "code",
   "execution_count": 3,
   "id": "8fcf97a1",
   "metadata": {
    "execution": {
     "iopub.execute_input": "2021-11-25T20:59:52.355656Z",
     "iopub.status.busy": "2021-11-25T20:59:52.353975Z",
     "iopub.status.idle": "2021-11-25T20:59:52.363771Z",
     "shell.execute_reply": "2021-11-25T20:59:52.363302Z"
    },
    "papermill": {
     "duration": 0.021246,
     "end_time": "2021-11-25T20:59:52.363957",
     "exception": false,
     "start_time": "2021-11-25T20:59:52.342711",
     "status": "completed"
    },
    "tags": []
   },
   "outputs": [
    {
     "name": "stdout",
     "output_type": "stream",
     "text": [
      "Saldo do Brunna é R$10500.0\n",
      "None\n",
      "Saldo do Tiago é R$10500.0\n",
      "None\n"
     ]
    }
   ],
   "source": [
    "class Conta:\n",
    "\n",
    "    def __init__(self, numero, titular, saldo, limite):\n",
    "        self.numero = numero\n",
    "        self.titular = titular\n",
    "        self.saldo = saldo\n",
    "        self.limite = limite\n",
    "    \n",
    "    def extrato(self):\n",
    "        print(f\"Saldo do {self.titular} é R${self.saldo}\")\n",
    "\n",
    "    def depositar(self, valor):\n",
    "        self.saldo += valor\n",
    "\n",
    "    def sacar(self, valor):\n",
    "        self.saldo -= valor\n",
    "\n",
    "conta1 = Conta(123, \"Brunna\", 10000.0, 1000000.0)\n",
    "conta2 = Conta(234, \"Tiago\", 11000.0, 1000000.0)\n",
    "\n",
    "conta2.sacar(500.0)\n",
    "conta1.depositar(500.0)\n",
    "\n",
    "print(conta1.extrato())\n",
    "print(conta2.extrato())"
   ]
  },
  {
   "cell_type": "markdown",
   "id": "e74d1f27",
   "metadata": {
    "papermill": {
     "duration": 0.008624,
     "end_time": "2021-11-25T20:59:52.382376",
     "exception": false,
     "start_time": "2021-11-25T20:59:52.373752",
     "status": "completed"
    },
    "tags": []
   },
   "source": [
    "## AULA 04 - Encapsulamento\n"
   ]
  },
  {
   "cell_type": "code",
   "execution_count": 4,
   "id": "711e0ebb",
   "metadata": {
    "execution": {
     "iopub.execute_input": "2021-11-25T20:59:52.407546Z",
     "iopub.status.busy": "2021-11-25T20:59:52.406922Z",
     "iopub.status.idle": "2021-11-25T20:59:52.409374Z",
     "shell.execute_reply": "2021-11-25T20:59:52.409804Z",
     "shell.execute_reply.started": "2021-11-25T18:56:04.194554Z"
    },
    "papermill": {
     "duration": 0.01878,
     "end_time": "2021-11-25T20:59:52.409977",
     "exception": false,
     "start_time": "2021-11-25T20:59:52.391197",
     "status": "completed"
    },
    "tags": []
   },
   "outputs": [
    {
     "name": "stdout",
     "output_type": "stream",
     "text": [
      "55.5\n",
      "Saldo do Nico é R$60.0\n"
     ]
    }
   ],
   "source": [
    "class Conta:\n",
    "\n",
    "    def __init__(self, numero, titular, saldo, limite):\n",
    "        self.numero = numero\n",
    "        self.titular = titular\n",
    "        self.saldo = saldo\n",
    "        self.limite = limite\n",
    "    \n",
    "    def extrato(self):\n",
    "        print(f\"Saldo do {self.titular} é R${self.saldo}\")\n",
    "\n",
    "    def depositar(self, valor):\n",
    "        self.saldo += valor\n",
    "\n",
    "    def sacar(self, valor):\n",
    "        self.saldo -= valor\n",
    "      \n",
    "        \n",
    "conta = Conta(123, \"Nico\", 55.5, 1000.0)\n",
    "print(conta.saldo)\n",
    "\n",
    "conta.saldo = 60.0\n",
    "\n",
    "conta.extrato()"
   ]
  },
  {
   "cell_type": "markdown",
   "id": "41017d6d",
   "metadata": {
    "papermill": {
     "duration": 0.008755,
     "end_time": "2021-11-25T20:59:52.427913",
     "exception": false,
     "start_time": "2021-11-25T20:59:52.419158",
     "status": "completed"
    },
    "tags": []
   },
   "source": [
    "Para restringir o acesso colocar __ na frente do atributo"
   ]
  },
  {
   "cell_type": "code",
   "execution_count": 5,
   "id": "3afba21c",
   "metadata": {
    "execution": {
     "iopub.execute_input": "2021-11-25T20:59:52.449266Z",
     "iopub.status.busy": "2021-11-25T20:59:52.448611Z",
     "iopub.status.idle": "2021-11-25T20:59:52.455751Z",
     "shell.execute_reply": "2021-11-25T20:59:52.456286Z",
     "shell.execute_reply.started": "2021-11-25T20:45:10.298294Z"
    },
    "papermill": {
     "duration": 0.019545,
     "end_time": "2021-11-25T20:59:52.456454",
     "exception": false,
     "start_time": "2021-11-25T20:59:52.436909",
     "status": "completed"
    },
    "tags": []
   },
   "outputs": [
    {
     "name": "stdout",
     "output_type": "stream",
     "text": [
      "55.5\n",
      "Saldo do Nico é R$55.5\n",
      "Saldo do Nico é R$65.5\n",
      "Saldo do Marco é R$90.0\n"
     ]
    }
   ],
   "source": [
    "class Conta:\n",
    "\n",
    "    def __init__(self, numero, titular, saldo, limite):\n",
    "        self.__numero = numero\n",
    "        self.__titular = titular\n",
    "        self.__saldo = saldo\n",
    "        self.__limite = limite\n",
    "    \n",
    "    def extrato(self):\n",
    "        print(f\"Saldo do {self.__titular} é R${self.__saldo}\")\n",
    "\n",
    "    def depositar(self, valor):\n",
    "        self.__saldo += valor\n",
    "\n",
    "    def sacar(self, valor):\n",
    "        self.__saldo -= valor\n",
    "      \n",
    "        \n",
    "conta = Conta(123, \"Nico\", 55.5, 1000.0)\n",
    "\n",
    "print(conta._Conta__saldo)\n",
    "\n",
    "conta.extrato()\n",
    "\n",
    "conta2 = Conta(321, \"Marco\", 100.0, 1000.0)\n",
    "\n",
    "valor = 10.0\n",
    "\n",
    "conta2.sacar(valor)\n",
    "conta.depositar(valor)\n",
    "\n",
    "conta.extrato()\n",
    "conta2.extrato()\n"
   ]
  },
  {
   "cell_type": "code",
   "execution_count": 6,
   "id": "8fba953c",
   "metadata": {
    "execution": {
     "iopub.execute_input": "2021-11-25T20:59:52.478192Z",
     "iopub.status.busy": "2021-11-25T20:59:52.477513Z",
     "iopub.status.idle": "2021-11-25T20:59:52.484684Z",
     "shell.execute_reply": "2021-11-25T20:59:52.485145Z",
     "shell.execute_reply.started": "2021-11-25T20:41:06.920132Z"
    },
    "papermill": {
     "duration": 0.019487,
     "end_time": "2021-11-25T20:59:52.485306",
     "exception": false,
     "start_time": "2021-11-25T20:59:52.465819",
     "status": "completed"
    },
    "tags": []
   },
   "outputs": [
    {
     "data": {
      "text/plain": [
       "42"
      ]
     },
     "execution_count": 6,
     "metadata": {},
     "output_type": "execute_result"
    }
   ],
   "source": [
    "class Retangulo:\n",
    "\n",
    "    def __init__(self, x, y):\n",
    "        self.__x = x\n",
    "        self.__y = y\n",
    "        self.__area = x * y\n",
    "\n",
    "    def obter_area(self):\n",
    "        return self.__area\n",
    "\n",
    "    \n",
    "r = Retangulo(7,6)\n",
    "r.area = 7\n",
    "r.obter_area()"
   ]
  },
  {
   "cell_type": "code",
   "execution_count": 7,
   "id": "ba1ef877",
   "metadata": {
    "execution": {
     "iopub.execute_input": "2021-11-25T20:59:52.507344Z",
     "iopub.status.busy": "2021-11-25T20:59:52.506755Z",
     "iopub.status.idle": "2021-11-25T20:59:52.515206Z",
     "shell.execute_reply": "2021-11-25T20:59:52.514675Z",
     "shell.execute_reply.started": "2021-11-25T20:53:52.670604Z"
    },
    "papermill": {
     "duration": 0.020413,
     "end_time": "2021-11-25T20:59:52.515338",
     "exception": false,
     "start_time": "2021-11-25T20:59:52.494925",
     "status": "completed"
    },
    "tags": []
   },
   "outputs": [
    {
     "name": "stdout",
     "output_type": "stream",
     "text": [
      "Saldo do Nico é R$65.5\n",
      "Saldo do Marco é R$90.0\n"
     ]
    }
   ],
   "source": [
    "class Conta:\n",
    "\n",
    "    def __init__(self, numero, titular, saldo, limite):\n",
    "        self.__numero = numero\n",
    "        self.__titular = titular\n",
    "        self.__saldo = saldo\n",
    "        self.__limite = limite\n",
    "    \n",
    "    def extrato(self):\n",
    "        print(f\"Saldo do {self.__titular} é R${self.__saldo}\")\n",
    "\n",
    "    def depositar(self, valor):\n",
    "        self.__saldo += valor\n",
    "\n",
    "    def sacar(self, valor):\n",
    "        self.__saldo -= valor\n",
    "    \n",
    "    def transferir(self, valor, origem, destino):\n",
    "        origem.sacar(valor)\n",
    "        destino.depositar(valor)\n",
    "        \n",
    "conta1 = Conta(123, \"Nico\", 55.5, 1000.0)\n",
    "conta2 = Conta(321, \"Marco\", 100.0, 1000.0)\n",
    "\n",
    "conta2.transferir(10.0, conta2, conta1)\n",
    "\n",
    "conta1.extrato()\n",
    "conta2.extrato()\n"
   ]
  },
  {
   "cell_type": "code",
   "execution_count": 8,
   "id": "ceb06ddf",
   "metadata": {
    "execution": {
     "iopub.execute_input": "2021-11-25T20:59:52.537931Z",
     "iopub.status.busy": "2021-11-25T20:59:52.537379Z",
     "iopub.status.idle": "2021-11-25T20:59:52.544766Z",
     "shell.execute_reply": "2021-11-25T20:59:52.545310Z",
     "shell.execute_reply.started": "2021-11-25T20:57:59.828334Z"
    },
    "papermill": {
     "duration": 0.020305,
     "end_time": "2021-11-25T20:59:52.545466",
     "exception": false,
     "start_time": "2021-11-25T20:59:52.525161",
     "status": "completed"
    },
    "tags": []
   },
   "outputs": [
    {
     "name": "stdout",
     "output_type": "stream",
     "text": [
      "Saldo do Nico é R$65.5\n",
      "Saldo do Marco é R$90.0\n"
     ]
    }
   ],
   "source": [
    "class Conta:\n",
    "\n",
    "    def __init__(self, numero, titular, saldo, limite):\n",
    "        self.__numero = numero\n",
    "        self.__titular = titular\n",
    "        self.__saldo = saldo\n",
    "        self.__limite = limite\n",
    "    \n",
    "    def extrato(self):\n",
    "        print(f\"Saldo do {self.__titular} é R${self.__saldo}\")\n",
    "\n",
    "    def depositar(self, valor):\n",
    "        self.__saldo += valor\n",
    "\n",
    "    def sacar(self, valor):\n",
    "        self.__saldo -= valor\n",
    "    \n",
    "    def transferir(self, valor, destino):\n",
    "        self.sacar(valor)\n",
    "        destino.depositar(valor)\n",
    "        \n",
    "conta1 = Conta(123, \"Nico\", 55.5, 1000.0)\n",
    "conta2 = Conta(321, \"Marco\", 100.0, 1000.0)\n",
    "\n",
    "conta2.transferir(10.0, conta1)\n",
    "\n",
    "conta1.extrato()\n",
    "conta2.extrato()\n"
   ]
  },
  {
   "cell_type": "code",
   "execution_count": null,
   "id": "0dd81b4e",
   "metadata": {
    "papermill": {
     "duration": 0.009727,
     "end_time": "2021-11-25T20:59:52.565218",
     "exception": false,
     "start_time": "2021-11-25T20:59:52.555491",
     "status": "completed"
    },
    "tags": []
   },
   "outputs": [],
   "source": []
  }
 ],
 "metadata": {
  "kernelspec": {
   "display_name": "Python 3",
   "language": "python",
   "name": "python3"
  },
  "language_info": {
   "codemirror_mode": {
    "name": "ipython",
    "version": 3
   },
   "file_extension": ".py",
   "mimetype": "text/x-python",
   "name": "python",
   "nbconvert_exporter": "python",
   "pygments_lexer": "ipython3",
   "version": "3.7.10"
  },
  "papermill": {
   "default_parameters": {},
   "duration": 8.947029,
   "end_time": "2021-11-25T20:59:53.184831",
   "environment_variables": {},
   "exception": null,
   "input_path": "__notebook__.ipynb",
   "output_path": "__notebook__.ipynb",
   "parameters": {},
   "start_time": "2021-11-25T20:59:44.237802",
   "version": "2.3.3"
  }
 },
 "nbformat": 4,
 "nbformat_minor": 5
}
